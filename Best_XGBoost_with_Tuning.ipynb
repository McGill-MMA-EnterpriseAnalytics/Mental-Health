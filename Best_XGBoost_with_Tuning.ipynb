{
  "nbformat": 4,
  "nbformat_minor": 0,
  "metadata": {
    "colab": {
      "provenance": []
    },
    "kernelspec": {
      "name": "python3",
      "display_name": "Python 3"
    },
    "language_info": {
      "name": "python"
    }
  },
  "cells": [
    {
      "cell_type": "code",
      "source": [
        "import pandas as pd\n",
        "import numpy as np\n",
        "from google.colab import drive\n",
        "drive.mount('/content/drive')\n",
        "path = '/content/drive/MyDrive/survey.csv'\n",
        "df = pd.read_csv(path, encoding='latin1')\n",
        "\n",
        "df = df.drop(columns=['comments', 'Timestamp', 'state', 'no_employees', 'anonymity'])\n",
        "df = df[(df['Age'] >= 18) & (df['Age'] <= 100)]\n",
        "df['self_employed'] = df['self_employed'].fillna('No')\n",
        "df.drop_duplicates()\n",
        "df['work_interfere'] = df['work_interfere'].fillna('Not applicable')\n",
        "\n",
        "#Function to clean the gender variable into 'female', 'male', and 'other'\n",
        "def clean_gender(gender):\n",
        "    gender = str(gender).strip().lower()\n",
        "    if gender in ['male', 'm', 'cis male', 'male (cis)', 'man', 'mail', 'cis man', 'malr', 'make', 'maile']:\n",
        "        return 'Male'\n",
        "    elif gender in ['female', 'f', 'cis female', 'woman', 'female (cis)', 'cis-female/femme', 'femake', 'femail', 'female ', 'trans female']:\n",
        "        return 'Female'\n",
        "    else:\n",
        "        return 'Other'\n",
        "\n",
        "# Apply the cleaning function\n",
        "df['Gender'] = df['Gender'].apply(clean_gender)\n",
        "\n",
        "for col in ['Gender','Country','self_employed','family_history','work_interfere','remote_work','tech_company','benefits','care_options',\n",
        "            'wellness_program','seek_help','leave','mental_health_consequence','phys_health_consequence','coworkers','supervisor',\n",
        "            'mental_health_interview','phys_health_interview','mental_vs_physical','obs_consequence']:\n",
        "            vc = df[col].value_counts(normalize=True)\n",
        "            rare = vc[vc < 0.01]\n",
        "\n",
        "vc = df['Country'].value_counts(normalize=True)\n",
        "rare = vc[vc < 0.01]\n",
        "rare_labels = rare.index.tolist()\n",
        "df['Country_grouped'] = df['Country'].replace(rare_labels, 'Other')\n",
        "\n",
        "!pip install matplotlib-venn\n",
        "\n",
        "# https://pypi.python.org/pypi/libarchive\n",
        "!apt-get -qq install -y libarchive-dev && pip install -U libarchive\n",
        "import libarchive\n",
        "\n",
        "# https://pypi.python.org/pypi/pydot\n",
        "!apt-get -qq install -y graphviz && pip install pydot\n",
        "import pydot\n",
        "\n",
        "!pip install cartopy\n",
        "import cartopy\n",
        "\n",
        "!apt-get update -qq\n",
        "!apt-get install -y libarchive-dev\n",
        "\n",
        "!pip install libarchive-c\n",
        "\n",
        "# Test\n",
        "import libarchive\n",
        "print(\"Import succeeded:\", libarchive)\n",
        "\n",
        "import pandas as pd\n",
        "import numpy as np\n",
        "\n",
        "from sklearn.model_selection import train_test_split\n",
        "from sklearn.preprocessing import OneHotEncoder\n",
        "from sklearn.compose import ColumnTransformer\n",
        "from sklearn.pipeline import Pipeline\n",
        "from sklearn.linear_model import LogisticRegression\n",
        "from sklearn.ensemble import RandomForestClassifier\n",
        "from xgboost import XGBClassifier\n",
        "from sklearn.semi_supervised import SelfTrainingClassifier, LabelPropagation\n",
        "from sklearn.metrics import classification_report, roc_auc_score\n",
        "\n",
        "# 1. Load and preprocess data\n",
        "df['treatment'] = df['treatment'].map({'Yes': 1, 'No': 0})\n",
        "\n",
        "# 2. Define features and target\n",
        "cat_cols = [\n",
        "    'Gender', 'Country_grouped', 'self_employed', 'family_history',\n",
        "    'work_interfere', 'remote_work', 'tech_company', 'benefits',\n",
        "    'care_options', 'wellness_program', 'seek_help', 'leave',\n",
        "    'mental_health_consequence', 'phys_health_consequence',\n",
        "    'coworkers', 'supervisor', 'mental_health_interview',\n",
        "    'phys_health_interview', 'mental_vs_physical', 'obs_consequence'\n",
        "]\n",
        "num_cols = ['Age']\n",
        "target = 'treatment'\n",
        "\n",
        "X = df[cat_cols + num_cols]\n",
        "y = df[target]"
      ],
      "metadata": {
        "colab": {
          "base_uri": "https://localhost:8080/",
          "height": 1000
        },
        "id": "JBZSQS5-hgwp",
        "outputId": "94890bfe-968b-4901-ca37-202756240017"
      },
      "execution_count": 1,
      "outputs": [
        {
          "output_type": "stream",
          "name": "stdout",
          "text": [
            "Mounted at /content/drive\n",
            "Requirement already satisfied: matplotlib-venn in /usr/local/lib/python3.11/dist-packages (1.1.2)\n",
            "Requirement already satisfied: matplotlib in /usr/local/lib/python3.11/dist-packages (from matplotlib-venn) (3.10.0)\n",
            "Requirement already satisfied: numpy in /usr/local/lib/python3.11/dist-packages (from matplotlib-venn) (2.0.2)\n",
            "Requirement already satisfied: scipy in /usr/local/lib/python3.11/dist-packages (from matplotlib-venn) (1.14.1)\n",
            "Requirement already satisfied: contourpy>=1.0.1 in /usr/local/lib/python3.11/dist-packages (from matplotlib->matplotlib-venn) (1.3.2)\n",
            "Requirement already satisfied: cycler>=0.10 in /usr/local/lib/python3.11/dist-packages (from matplotlib->matplotlib-venn) (0.12.1)\n",
            "Requirement already satisfied: fonttools>=4.22.0 in /usr/local/lib/python3.11/dist-packages (from matplotlib->matplotlib-venn) (4.57.0)\n",
            "Requirement already satisfied: kiwisolver>=1.3.1 in /usr/local/lib/python3.11/dist-packages (from matplotlib->matplotlib-venn) (1.4.8)\n",
            "Requirement already satisfied: packaging>=20.0 in /usr/local/lib/python3.11/dist-packages (from matplotlib->matplotlib-venn) (24.2)\n",
            "Requirement already satisfied: pillow>=8 in /usr/local/lib/python3.11/dist-packages (from matplotlib->matplotlib-venn) (11.1.0)\n",
            "Requirement already satisfied: pyparsing>=2.3.1 in /usr/local/lib/python3.11/dist-packages (from matplotlib->matplotlib-venn) (3.2.3)\n",
            "Requirement already satisfied: python-dateutil>=2.7 in /usr/local/lib/python3.11/dist-packages (from matplotlib->matplotlib-venn) (2.8.2)\n",
            "Requirement already satisfied: six>=1.5 in /usr/local/lib/python3.11/dist-packages (from python-dateutil>=2.7->matplotlib->matplotlib-venn) (1.17.0)\n",
            "Selecting previously unselected package libarchive-dev:amd64.\n",
            "(Reading database ... 126333 files and directories currently installed.)\n",
            "Preparing to unpack .../libarchive-dev_3.6.0-1ubuntu1.4_amd64.deb ...\n",
            "Unpacking libarchive-dev:amd64 (3.6.0-1ubuntu1.4) ...\n",
            "Setting up libarchive-dev:amd64 (3.6.0-1ubuntu1.4) ...\n",
            "Processing triggers for man-db (2.10.2-1) ...\n",
            "Collecting libarchive\n",
            "  Downloading libarchive-0.4.7.tar.gz (23 kB)\n",
            "  Preparing metadata (setup.py) ... \u001b[?25l\u001b[?25hdone\n",
            "Collecting nose (from libarchive)\n",
            "  Downloading nose-1.3.7-py3-none-any.whl.metadata (1.7 kB)\n",
            "Downloading nose-1.3.7-py3-none-any.whl (154 kB)\n",
            "\u001b[2K   \u001b[90m━━━━━━━━━━━━━━━━━━━━━━━━━━━━━━━━━━━━━━━━\u001b[0m \u001b[32m154.7/154.7 kB\u001b[0m \u001b[31m5.3 MB/s\u001b[0m eta \u001b[36m0:00:00\u001b[0m\n",
            "\u001b[?25hBuilding wheels for collected packages: libarchive\n",
            "  Building wheel for libarchive (setup.py) ... \u001b[?25l\u001b[?25hdone\n",
            "  Created wheel for libarchive: filename=libarchive-0.4.7-py3-none-any.whl size=31629 sha256=3e97303d97d87a93f774417fae22f5f726faa6c49888e332ca9718cd5d2b8976\n",
            "  Stored in directory: /root/.cache/pip/wheels/32/98/bd/4893d6923dd027f455b250367d402bfd69a6f4416581df46db\n",
            "Successfully built libarchive\n",
            "Installing collected packages: nose, libarchive\n",
            "Successfully installed libarchive-0.4.7 nose-1.3.7\n",
            "Requirement already satisfied: pydot in /usr/local/lib/python3.11/dist-packages (3.0.4)\n",
            "Requirement already satisfied: pyparsing>=3.0.9 in /usr/local/lib/python3.11/dist-packages (from pydot) (3.2.3)\n",
            "Collecting cartopy\n",
            "  Downloading Cartopy-0.24.1-cp311-cp311-manylinux_2_17_x86_64.manylinux2014_x86_64.whl.metadata (7.9 kB)\n",
            "Requirement already satisfied: numpy>=1.23 in /usr/local/lib/python3.11/dist-packages (from cartopy) (2.0.2)\n",
            "Requirement already satisfied: matplotlib>=3.6 in /usr/local/lib/python3.11/dist-packages (from cartopy) (3.10.0)\n",
            "Requirement already satisfied: shapely>=1.8 in /usr/local/lib/python3.11/dist-packages (from cartopy) (2.1.0)\n",
            "Requirement already satisfied: packaging>=21 in /usr/local/lib/python3.11/dist-packages (from cartopy) (24.2)\n",
            "Requirement already satisfied: pyshp>=2.3 in /usr/local/lib/python3.11/dist-packages (from cartopy) (2.3.1)\n",
            "Requirement already satisfied: pyproj>=3.3.1 in /usr/local/lib/python3.11/dist-packages (from cartopy) (3.7.1)\n",
            "Requirement already satisfied: contourpy>=1.0.1 in /usr/local/lib/python3.11/dist-packages (from matplotlib>=3.6->cartopy) (1.3.2)\n",
            "Requirement already satisfied: cycler>=0.10 in /usr/local/lib/python3.11/dist-packages (from matplotlib>=3.6->cartopy) (0.12.1)\n",
            "Requirement already satisfied: fonttools>=4.22.0 in /usr/local/lib/python3.11/dist-packages (from matplotlib>=3.6->cartopy) (4.57.0)\n",
            "Requirement already satisfied: kiwisolver>=1.3.1 in /usr/local/lib/python3.11/dist-packages (from matplotlib>=3.6->cartopy) (1.4.8)\n",
            "Requirement already satisfied: pillow>=8 in /usr/local/lib/python3.11/dist-packages (from matplotlib>=3.6->cartopy) (11.1.0)\n",
            "Requirement already satisfied: pyparsing>=2.3.1 in /usr/local/lib/python3.11/dist-packages (from matplotlib>=3.6->cartopy) (3.2.3)\n",
            "Requirement already satisfied: python-dateutil>=2.7 in /usr/local/lib/python3.11/dist-packages (from matplotlib>=3.6->cartopy) (2.8.2)\n",
            "Requirement already satisfied: certifi in /usr/local/lib/python3.11/dist-packages (from pyproj>=3.3.1->cartopy) (2025.1.31)\n",
            "Requirement already satisfied: six>=1.5 in /usr/local/lib/python3.11/dist-packages (from python-dateutil>=2.7->matplotlib>=3.6->cartopy) (1.17.0)\n",
            "Downloading Cartopy-0.24.1-cp311-cp311-manylinux_2_17_x86_64.manylinux2014_x86_64.whl (11.7 MB)\n",
            "\u001b[2K   \u001b[90m━━━━━━━━━━━━━━━━━━━━━━━━━━━━━━━━━━━━━━━━\u001b[0m \u001b[32m11.7/11.7 MB\u001b[0m \u001b[31m80.1 MB/s\u001b[0m eta \u001b[36m0:00:00\u001b[0m\n",
            "\u001b[?25hInstalling collected packages: cartopy\n",
            "Successfully installed cartopy-0.24.1\n",
            "W: Skipping acquire of configured file 'main/source/Sources' as repository 'https://r2u.stat.illinois.edu/ubuntu jammy InRelease' does not seem to provide it (sources.list entry misspelt?)\n",
            "Reading package lists... Done\n",
            "Building dependency tree... Done\n",
            "Reading state information... Done\n",
            "libarchive-dev is already the newest version (3.6.0-1ubuntu1.4).\n",
            "0 upgraded, 0 newly installed, 0 to remove and 35 not upgraded.\n",
            "Collecting libarchive-c\n",
            "  Downloading libarchive_c-5.2-py3-none-any.whl.metadata (5.5 kB)\n",
            "Downloading libarchive_c-5.2-py3-none-any.whl (15 kB)\n",
            "Installing collected packages: libarchive-c\n",
            "Successfully installed libarchive-c-5.2\n"
          ]
        },
        {
          "output_type": "display_data",
          "data": {
            "application/vnd.colab-display-data+json": {
              "pip_warning": {
                "packages": [
                  "libarchive"
                ]
              },
              "id": "a72b67eb397a4e53a7ffc999146a421b"
            }
          },
          "metadata": {}
        },
        {
          "output_type": "stream",
          "name": "stdout",
          "text": [
            "Import succeeded: <module 'libarchive' from '/usr/local/lib/python3.11/dist-packages/libarchive/__init__.py'>\n"
          ]
        }
      ]
    },
    {
      "cell_type": "code",
      "source": [
        "# 3. Split train/test\n",
        "X_train, X_test, y_train, y_test = train_test_split(\n",
        "    X, y, stratify=y, test_size=0.2, random_state=42\n",
        ")"
      ],
      "metadata": {
        "id": "3loUh_-WtcCT"
      },
      "execution_count": 2,
      "outputs": []
    },
    {
      "cell_type": "markdown",
      "source": [
        "下面这个cell是carol原本的model，但我这边没用。因为我后面对数据进行修改了（做的pseudo labeling）之后，我把model + pseudo labeling + tuning写在一起了。你可以直接跳到Hyper-parameter Tuning那边run。"
      ],
      "metadata": {
        "id": "KftoS6oZp0uX"
      }
    },
    {
      "cell_type": "code",
      "source": [
        "import pandas as pd\n",
        "import numpy as np\n",
        "from sklearn.model_selection import train_test_split\n",
        "from sklearn.preprocessing import OneHotEncoder\n",
        "from sklearn.compose import ColumnTransformer\n",
        "from sklearn.pipeline import Pipeline\n",
        "from sklearn.linear_model import LogisticRegression\n",
        "from sklearn.ensemble import RandomForestClassifier\n",
        "from catboost import CatBoostClassifier\n",
        "from xgboost import XGBClassifier\n",
        "from sklearn.semi_supervised import SelfTrainingClassifier, LabelPropagation\n",
        "from sklearn.metrics import classification_report, roc_auc_score\n",
        "\n",
        "\n",
        "# fix all categorical NaNs BEFORE modeling\n",
        "X_train[cat_cols] = X_train[cat_cols].fillna('Missing').astype(str)\n",
        "X_test[cat_cols]  = X_test[cat_cols].fillna('Missing').astype(str)\n",
        "\n",
        "\n",
        "# 4. Preprocessing pipeline for non-CatBoost models\n",
        "ohe = OneHotEncoder(handle_unknown='ignore', sparse_output=False)\n",
        "preprocessor = ColumnTransformer(\n",
        "    [('onehot', ohe, cat_cols)],\n",
        "    remainder='passthrough'\n",
        ")\n",
        "\n",
        "# 5. Supervised models\n",
        "\n",
        "## 5.1 Logistic Regression\n",
        "lr_pipeline = Pipeline([\n",
        "    ('preprocess', preprocessor),\n",
        "    ('classifier', LogisticRegression(max_iter=1000, class_weight='balanced'))\n",
        "])\n",
        "lr_pipeline.fit(X_train, y_train)\n",
        "y_pred = lr_pipeline.predict(X_test)\n",
        "print(\"Logistic Regression:\\n\", classification_report(y_test, y_pred))\n",
        "\n",
        "## 5.2 Random Forest\n",
        "rf_pipeline = Pipeline([\n",
        "    ('preprocess', preprocessor),\n",
        "    ('classifier', RandomForestClassifier(\n",
        "        n_estimators=200,\n",
        "        class_weight='balanced',\n",
        "        random_state=42\n",
        "    ))\n",
        "])\n",
        "rf_pipeline.fit(X_train, y_train)\n",
        "y_pred = rf_pipeline.predict(X_test)\n",
        "print(\"Random Forest:\\n\", classification_report(y_test, y_pred))\n",
        "\n",
        "# 5.3 CatBoost\n",
        "cat_model = CatBoostClassifier(\n",
        "    iterations=500,\n",
        "    learning_rate=0.1,\n",
        "    eval_metric='AUC',\n",
        "    random_seed=42,\n",
        "    verbose=False\n",
        ")\n",
        "cat_model.fit(\n",
        "    X_train, y_train,\n",
        "    cat_features=cat_cols,\n",
        "    eval_set=(X_test, y_test)\n",
        ")\n",
        "y_pred = cat_model.predict(X_test)\n",
        "print(\"CatBoost:\\n\", classification_report(y_test, y_pred))\n",
        "\n",
        "# 5.4 XGBoost\n",
        "xgb_pipeline = Pipeline([\n",
        "    ('preprocess', preprocessor),\n",
        "    ('classifier', XGBClassifier(\n",
        "        random_state=42\n",
        "    ))\n",
        "])\n",
        "xgb_pipeline.fit(X_train, y_train)\n",
        "y_pred = xgb_pipeline.predict(X_test)\n",
        "print(\"XGBoost:\\n\", classification_report(y_test, y_pred))\n",
        "\n",
        "# 6. Semi-supervised examples\n",
        "\n",
        "# Hide half of training labels\n",
        "rng = np.random.RandomState(42)\n",
        "mask = rng.rand(len(y_train)) < 0.5\n",
        "y_train_semi = y_train.copy()\n",
        "y_train_semi[mask] = -1  # unlabeled\n",
        "\n",
        "# 6.1 Self-training with Logistic Regression\n",
        "X_train_enc = preprocessor.fit_transform(X_train)\n",
        "self_train = SelfTrainingClassifier(\n",
        "    base_estimator=LogisticRegression(max_iter=1000),\n",
        "    threshold=0.8\n",
        ")\n",
        "self_train.fit(X_train_enc, y_train_semi)\n",
        "X_test_enc = preprocessor.transform(X_test)\n",
        "y_pred = self_train.predict(X_test_enc)\n",
        "print(\"Self-Training LR:\\n\", classification_report(y_test, y_pred))\n",
        "\n",
        "# 6.2 Label Propagation\n",
        "label_prop = LabelPropagation(\n",
        "    kernel='knn',\n",
        "    n_neighbors=7,\n",
        "    max_iter=1000\n",
        ")\n",
        "label_prop.fit(X_train_enc, y_train_semi)\n",
        "y_pred = label_prop.predict(X_test_enc)\n",
        "print(\"Label Propagation:\\n\", classification_report(y_test, y_pred))\n"
      ],
      "metadata": {
        "colab": {
          "base_uri": "https://localhost:8080/"
        },
        "id": "uRDaYBDoJjD_",
        "outputId": "f44255eb-d072-457f-c4e7-15d099ea91ef"
      },
      "execution_count": null,
      "outputs": [
        {
          "output_type": "stream",
          "name": "stdout",
          "text": [
            "Logistic Regression:\n",
            "               precision    recall  f1-score   support\n",
            "\n",
            "           0       0.88      0.79      0.83       124\n",
            "           1       0.81      0.90      0.85       127\n",
            "\n",
            "    accuracy                           0.84       251\n",
            "   macro avg       0.85      0.84      0.84       251\n",
            "weighted avg       0.85      0.84      0.84       251\n",
            "\n",
            "Random Forest:\n",
            "               precision    recall  f1-score   support\n",
            "\n",
            "           0       0.87      0.77      0.82       124\n",
            "           1       0.80      0.89      0.84       127\n",
            "\n",
            "    accuracy                           0.83       251\n",
            "   macro avg       0.84      0.83      0.83       251\n",
            "weighted avg       0.84      0.83      0.83       251\n",
            "\n",
            "CatBoost:\n",
            "               precision    recall  f1-score   support\n",
            "\n",
            "           0       0.91      0.73      0.81       124\n",
            "           1       0.78      0.93      0.85       127\n",
            "\n",
            "    accuracy                           0.83       251\n",
            "   macro avg       0.84      0.83      0.83       251\n",
            "weighted avg       0.84      0.83      0.83       251\n",
            "\n",
            "XGBoost:\n",
            "               precision    recall  f1-score   support\n",
            "\n",
            "           0       0.83      0.80      0.81       124\n",
            "           1       0.81      0.84      0.83       127\n",
            "\n",
            "    accuracy                           0.82       251\n",
            "   macro avg       0.82      0.82      0.82       251\n",
            "weighted avg       0.82      0.82      0.82       251\n",
            "\n"
          ]
        },
        {
          "output_type": "stream",
          "name": "stderr",
          "text": [
            "/usr/local/lib/python3.11/dist-packages/sklearn/semi_supervised/_self_training.py:210: FutureWarning: `base_estimator` has been deprecated in 1.6 and will be removed in 1.8. Please use `estimator` instead.\n",
            "  warn(\n"
          ]
        },
        {
          "output_type": "stream",
          "name": "stdout",
          "text": [
            "Self-Training LR:\n",
            "               precision    recall  f1-score   support\n",
            "\n",
            "           0       0.87      0.79      0.83       124\n",
            "           1       0.81      0.88      0.85       127\n",
            "\n",
            "    accuracy                           0.84       251\n",
            "   macro avg       0.84      0.84      0.84       251\n",
            "weighted avg       0.84      0.84      0.84       251\n",
            "\n",
            "Label Propagation:\n",
            "               precision    recall  f1-score   support\n",
            "\n",
            "           0       0.65      0.81      0.72       124\n",
            "           1       0.76      0.57      0.65       127\n",
            "\n",
            "    accuracy                           0.69       251\n",
            "   macro avg       0.70      0.69      0.69       251\n",
            "weighted avg       0.70      0.69      0.68       251\n",
            "\n"
          ]
        }
      ]
    },
    {
      "cell_type": "markdown",
      "source": [
        "# Semi-Supervised"
      ],
      "metadata": {
        "id": "wJuxX7JValuT"
      }
    },
    {
      "cell_type": "code",
      "source": [
        "import numpy as np\n",
        "import pandas as pd\n",
        "from sklearn.model_selection import train_test_split\n",
        "from sklearn.pipeline import Pipeline\n",
        "from sklearn.compose import ColumnTransformer\n",
        "from sklearn.preprocessing import OneHotEncoder\n",
        "from sklearn.linear_model import LogisticRegression\n",
        "from sklearn.ensemble import RandomForestClassifier\n",
        "from xgboost import XGBClassifier\n",
        "from sklearn.semi_supervised import SelfTrainingClassifier\n",
        "from sklearn.metrics import classification_report"
      ],
      "metadata": {
        "id": "GgXnc-4Yaxft"
      },
      "execution_count": 3,
      "outputs": []
    },
    {
      "cell_type": "markdown",
      "source": [
        "Step 1: Define helper functions"
      ],
      "metadata": {
        "id": "twD5L9Jwa0nf"
      }
    },
    {
      "cell_type": "code",
      "source": [
        "def apply_pseudo_labeling(base_model, X_labeled, y_labeled, X_unlabeled, preprocessor=None, threshold=0.9):\n",
        "    \"\"\"\n",
        "    Apply Pseudo-Labeling for models that require preprocessed numerical features\n",
        "    (e.g., Logistic Regression, Random Forest, XGBoost).\n",
        "\n",
        "    Parameters:\n",
        "    -----------\n",
        "    base_model: sklearn-style model (must have fit() and predict_proba())\n",
        "    X_labeled: pd.DataFrame\n",
        "        Features of the labeled data\n",
        "    y_labeled: pd.Series or np.array\n",
        "        Labels of the labeled data\n",
        "    X_unlabeled: pd.DataFrame\n",
        "        Features of the unlabeled data\n",
        "    preprocessor: ColumnTransformer or None\n",
        "        Preprocessing pipeline to apply. Must be fitted inside this function.\n",
        "    threshold: float (default=0.9)\n",
        "        Confidence threshold for selecting pseudo-labeled samples.\n",
        "\n",
        "    Returns:\n",
        "    --------\n",
        "    X_augmented: pd.DataFrame\n",
        "        Augmented training features (labeled + high-confidence pseudo-labeled)\n",
        "    y_augmented: pd.Series\n",
        "        Augmented training labels\n",
        "    \"\"\"\n",
        "\n",
        "    # Fit and transform preprocessing if provided\n",
        "    if preprocessor is not None:\n",
        "        preprocessor.fit(X_labeled)\n",
        "        X_labeled_encoded = preprocessor.transform(X_labeled)\n",
        "        X_unlabeled_encoded = preprocessor.transform(X_unlabeled)\n",
        "    else:\n",
        "        X_labeled_encoded = X_labeled\n",
        "        X_unlabeled_encoded = X_unlabeled\n",
        "\n",
        "    # Train the base model\n",
        "    base_model.fit(X_labeled_encoded, y_labeled)\n",
        "\n",
        "    # Predict pseudo-labels for unlabeled data\n",
        "    proba_unlabeled = base_model.predict_proba(X_unlabeled_encoded)\n",
        "    preds_unlabeled = np.argmax(proba_unlabeled, axis=1)\n",
        "    max_proba = np.max(proba_unlabeled, axis=1)\n",
        "\n",
        "    # Select high-confidence pseudo-labeled samples\n",
        "    mask = max_proba >= threshold\n",
        "    X_pseudo = X_unlabeled.iloc[mask]\n",
        "    y_pseudo = preds_unlabeled[mask]\n",
        "\n",
        "    # Combine original labeled data with pseudo-labeled data\n",
        "    X_augmented = pd.concat([X_labeled, X_pseudo], axis=0)\n",
        "    y_augmented = pd.concat([y_labeled, pd.Series(y_pseudo, index=X_pseudo.index)], axis=0)\n",
        "\n",
        "    return X_augmented, y_augmented"
      ],
      "metadata": {
        "id": "9CLJhd8kckH3"
      },
      "execution_count": 4,
      "outputs": []
    },
    {
      "cell_type": "markdown",
      "source": [
        "Step 2: Prepare base models and pipelines"
      ],
      "metadata": {
        "id": "R0Gottlka9f5"
      }
    },
    {
      "cell_type": "code",
      "source": [
        "# Fill missing values for categorical columns\n",
        "X[cat_cols] = X[cat_cols].fillna('Missing').astype(str)\n",
        "\n",
        "# Preprocessor for LR, RF, XGB\n",
        "ohe = OneHotEncoder(handle_unknown='ignore', sparse_output=False)\n",
        "preprocessor = ColumnTransformer(\n",
        "    [('onehot', ohe, cat_cols)],\n",
        "    remainder='passthrough'\n",
        ")\n",
        "\n",
        "# Base models\n",
        "xgb = XGBClassifier(random_state=42, use_label_encoder=False, eval_metric='logloss')\n",
        "\n",
        "# Pipelines for models needing preprocessing\n",
        "\n",
        "xgb_pipeline = Pipeline([\n",
        "    ('preprocess', preprocessor),\n",
        "    ('classifier', xgb)\n",
        "])"
      ],
      "metadata": {
        "colab": {
          "base_uri": "https://localhost:8080/"
        },
        "id": "9Y80SHqya5Zg",
        "outputId": "8819ad8e-ff0c-48bb-854e-bb7ba3f9a451"
      },
      "execution_count": 6,
      "outputs": [
        {
          "output_type": "stream",
          "name": "stderr",
          "text": [
            "<ipython-input-6-41be26e93de1>:2: SettingWithCopyWarning: \n",
            "A value is trying to be set on a copy of a slice from a DataFrame.\n",
            "Try using .loc[row_indexer,col_indexer] = value instead\n",
            "\n",
            "See the caveats in the documentation: https://pandas.pydata.org/pandas-docs/stable/user_guide/indexing.html#returning-a-view-versus-a-copy\n",
            "  X[cat_cols] = X[cat_cols].fillna('Missing').astype(str)\n"
          ]
        }
      ]
    },
    {
      "cell_type": "code",
      "source": [
        "# Further split X_train_base into Labeled and Unlabeled simulation\n",
        "X_labeled, X_unlabeled, y_labeled, _ = train_test_split(\n",
        "    X_train, y_train, stratify=y_train, test_size=0.2, random_state=42\n",
        ")"
      ],
      "metadata": {
        "id": "ADnEWMvpa5SH"
      },
      "execution_count": 7,
      "outputs": []
    },
    {
      "cell_type": "markdown",
      "source": [
        "Step 5: Pseudo-Labeling for all four models"
      ],
      "metadata": {
        "id": "9-lyvEBobPos"
      }
    },
    {
      "cell_type": "code",
      "source": [
        "print(\"===== PSEUDO-LABELING =====\")\n",
        "\n",
        "# XGBoost (Pseudo-Labeling)\n",
        "X_aug_xgb, y_aug_xgb = apply_pseudo_labeling(xgb, X_labeled, y_labeled, X_unlabeled, preprocessor=preprocessor, threshold=0.95)\n",
        "X_train_xgb, X_test_xgb, y_train_xgb, y_test_xgb = train_test_split(X_aug_xgb, y_aug_xgb, stratify=y_aug_xgb, test_size=0.2, random_state=42)\n",
        "xgb_pipeline.fit(X_train_xgb, y_train_xgb)\n",
        "y_pred_xgb = xgb_pipeline.predict(X_test_xgb)\n",
        "print(\"Pseudo-Labeling XGBoost:\\n\", classification_report(y_test_xgb, y_pred_xgb))"
      ],
      "metadata": {
        "colab": {
          "base_uri": "https://localhost:8080/"
        },
        "id": "GLvqGiqVbNoP",
        "outputId": "48e380a2-4864-49c1-9b58-1ca2d99c3e27"
      },
      "execution_count": 8,
      "outputs": [
        {
          "output_type": "stream",
          "name": "stdout",
          "text": [
            "===== PSEUDO-LABELING =====\n"
          ]
        },
        {
          "output_type": "stream",
          "name": "stderr",
          "text": [
            "/usr/local/lib/python3.11/dist-packages/xgboost/core.py:158: UserWarning: [05:21:05] WARNING: /workspace/src/learner.cc:740: \n",
            "Parameters: { \"use_label_encoder\" } are not used.\n",
            "\n",
            "  warnings.warn(smsg, UserWarning)\n"
          ]
        },
        {
          "output_type": "stream",
          "name": "stdout",
          "text": [
            "Pseudo-Labeling XGBoost:\n",
            "               precision    recall  f1-score   support\n",
            "\n",
            "           0       0.90      0.88      0.89        93\n",
            "           1       0.88      0.90      0.89        91\n",
            "\n",
            "    accuracy                           0.89       184\n",
            "   macro avg       0.89      0.89      0.89       184\n",
            "weighted avg       0.89      0.89      0.89       184\n",
            "\n"
          ]
        },
        {
          "output_type": "stream",
          "name": "stderr",
          "text": [
            "/usr/local/lib/python3.11/dist-packages/xgboost/core.py:158: UserWarning: [05:21:05] WARNING: /workspace/src/learner.cc:740: \n",
            "Parameters: { \"use_label_encoder\" } are not used.\n",
            "\n",
            "  warnings.warn(smsg, UserWarning)\n"
          ]
        }
      ]
    },
    {
      "cell_type": "markdown",
      "source": [
        "## Hyper-parameter Tuning"
      ],
      "metadata": {
        "id": "vx0Sa7YtGRPI"
      }
    },
    {
      "cell_type": "code",
      "source": [
        "from sklearn.model_selection import RandomizedSearchCV\n",
        "from sklearn.pipeline import Pipeline\n",
        "from sklearn.compose import ColumnTransformer\n",
        "from sklearn.preprocessing import OneHotEncoder, StandardScaler\n",
        "from sklearn.metrics import classification_report\n",
        "from xgboost import XGBClassifier\n",
        "import joblib\n",
        "import os\n",
        "import json\n",
        "\n",
        "print(\"===== FINE-TUNING PSEUDO-LABELING XGBOOST (Small LR + More Trees) =====\")\n",
        "\n",
        "# 1. Pseudo-labeling\n",
        "X_aug_xgb, y_aug_xgb = apply_pseudo_labeling(xgb, X_labeled, y_labeled, X_unlabeled, preprocessor=preprocessor, threshold=0.95)\n",
        "\n",
        "# 2. Train-test split\n",
        "X_train_xgb, X_test_xgb, y_train_xgb, y_test_xgb = train_test_split(\n",
        "    X_aug_xgb, y_aug_xgb, stratify=y_aug_xgb, test_size=0.2, random_state=42\n",
        ")\n",
        "\n",
        "# 3. Column types\n",
        "categorical_cols = X_train_xgb.select_dtypes(include=['object']).columns.tolist()\n",
        "numerical_cols = X_train_xgb.select_dtypes(exclude=['object']).columns.tolist()\n",
        "\n",
        "# 4. Preprocessor\n",
        "preprocessor = ColumnTransformer(transformers=[\n",
        "    ('cat', OneHotEncoder(handle_unknown='ignore'), categorical_cols),\n",
        "    ('num', StandardScaler(), numerical_cols)\n",
        "])\n",
        "\n",
        "# 5. Pipeline\n",
        "xgb_pipeline = Pipeline(steps=[\n",
        "    ('preprocessor', preprocessor),\n",
        "    ('classifier', XGBClassifier(use_label_encoder=False, eval_metric='logloss', random_state=42))\n",
        "])\n",
        "\n",
        "# 6. New hyperparameter search space\n",
        "param_dist = {\n",
        "    'classifier__n_estimators': [300, 400, 500, 600, 800],\n",
        "    'classifier__max_depth': [3, 4, 5, 6],\n",
        "    'classifier__learning_rate': [0.01, 0.03, 0.05, 0.07],\n",
        "    'classifier__subsample': [0.7, 0.8, 0.9, 1.0],\n",
        "    'classifier__colsample_bytree': [0.7, 0.8, 0.9, 1.0],\n",
        "    'classifier__gamma': [0, 0.05, 0.1],\n",
        "    'classifier__reg_alpha': [0, 0.01, 0.1],\n",
        "    'classifier__reg_lambda': [1, 1.5, 2.0]\n",
        "}\n",
        "\n",
        "# 7. RandomizedSearchCV\n",
        "random_search = RandomizedSearchCV(\n",
        "    estimator=xgb_pipeline,\n",
        "    param_distributions=param_dist,\n",
        "    n_iter=50,  # 可以调整成100更稳\n",
        "    scoring='accuracy',\n",
        "    cv=5,\n",
        "    verbose=2,\n",
        "    random_state=42,\n",
        "    n_jobs=-1\n",
        ")\n",
        "\n",
        "# 8. Fit\n",
        "random_search.fit(X_train_xgb, y_train_xgb)\n",
        "\n",
        "# 9. Predict\n",
        "best_xgb_pipeline = random_search.best_estimator_\n",
        "y_pred_xgb = best_xgb_pipeline.predict(X_test_xgb)\n",
        "\n",
        "# 10. Report\n",
        "print(\"\\n===== Best Parameters =====\")\n",
        "print(random_search.best_params_)\n",
        "\n",
        "print(\"\\n===== Best Cross-Validation Accuracy =====\")\n",
        "print(random_search.best_score_)\n",
        "\n",
        "print(\"\\n===== Test Set Classification Report =====\")\n",
        "print(classification_report(y_test_xgb, y_pred_xgb))\n",
        "\n",
        "# 11. Save model and best params\n",
        "save_dir = \"/content/models\"\n",
        "os.makedirs(save_dir, exist_ok=True)\n",
        "\n",
        "joblib.dump(best_xgb_pipeline, os.path.join(save_dir, \"best_xgb_pipeline_v2.pkl\"))\n",
        "print(f\"Model saved to {save_dir}/best_xgb_pipeline_v2.pkl\")\n",
        "\n",
        "with open(os.path.join(save_dir, \"best_xgb_params_v2.json\"), \"w\") as f:\n",
        "    json.dump(random_search.best_params_, f, indent=4)\n",
        "print(f\"Best parameters saved to {save_dir}/best_xgb_params_v2.json\")"
      ],
      "metadata": {
        "colab": {
          "base_uri": "https://localhost:8080/"
        },
        "outputId": "02f2c7f8-66a9-4654-9e07-8348a507b1b7",
        "id": "jgDWUWhqjXgG"
      },
      "execution_count": 9,
      "outputs": [
        {
          "output_type": "stream",
          "name": "stdout",
          "text": [
            "===== FINE-TUNING PSEUDO-LABELING XGBOOST (Small LR + More Trees) =====\n"
          ]
        },
        {
          "output_type": "stream",
          "name": "stderr",
          "text": [
            "/usr/local/lib/python3.11/dist-packages/xgboost/core.py:158: UserWarning: [05:25:15] WARNING: /workspace/src/learner.cc:740: \n",
            "Parameters: { \"use_label_encoder\" } are not used.\n",
            "\n",
            "  warnings.warn(smsg, UserWarning)\n"
          ]
        },
        {
          "output_type": "stream",
          "name": "stdout",
          "text": [
            "Fitting 5 folds for each of 50 candidates, totalling 250 fits\n",
            "\n",
            "===== Best Parameters =====\n",
            "{'classifier__subsample': 0.8, 'classifier__reg_lambda': 2.0, 'classifier__reg_alpha': 0.1, 'classifier__n_estimators': 300, 'classifier__max_depth': 5, 'classifier__learning_rate': 0.03, 'classifier__gamma': 0.1, 'classifier__colsample_bytree': 0.7}\n",
            "\n",
            "===== Best Cross-Validation Accuracy =====\n",
            "0.840089460441711\n",
            "\n",
            "===== Test Set Classification Report =====\n",
            "              precision    recall  f1-score   support\n",
            "\n",
            "           0       0.92      0.88      0.90        93\n",
            "           1       0.88      0.92      0.90        91\n",
            "\n",
            "    accuracy                           0.90       184\n",
            "   macro avg       0.90      0.90      0.90       184\n",
            "weighted avg       0.90      0.90      0.90       184\n",
            "\n",
            "Model saved to /content/models/best_xgb_pipeline_v2.pkl\n",
            "Best parameters saved to /content/models/best_xgb_params_v2.json\n"
          ]
        },
        {
          "output_type": "stream",
          "name": "stderr",
          "text": [
            "/usr/local/lib/python3.11/dist-packages/xgboost/core.py:158: UserWarning: [05:26:14] WARNING: /workspace/src/learner.cc:740: \n",
            "Parameters: { \"use_label_encoder\" } are not used.\n",
            "\n",
            "  warnings.warn(smsg, UserWarning)\n"
          ]
        }
      ]
    },
    {
      "cell_type": "markdown",
      "source": [
        "# AUC ROC Curve"
      ],
      "metadata": {
        "id": "G4Mf-5aHrPQ_"
      }
    },
    {
      "cell_type": "code",
      "source": [
        "from sklearn.metrics import roc_curve, auc, RocCurveDisplay\n",
        "import matplotlib.pyplot as plt\n",
        "import joblib\n",
        "\n",
        "# 1. Load the model (if 'best_xgb_pipeline_v2' is already in session, you can skip this)\n",
        "# If the Colab session was restarted, reload the model:\n",
        "# best_xgb_pipeline_v2 = joblib.load(\"/content/models/best_xgb_pipeline_v2.pkl\")\n",
        "\n",
        "# 2. Predict probabilities (make sure to use predict_proba)\n",
        "y_proba_xgb = best_xgb_pipeline.predict_proba(X_test_xgb)[:, 1]  # Take the probability of the positive class (1)\n",
        "\n",
        "# 3. Compute False Positive Rate and True Positive Rate\n",
        "fpr, tpr, thresholds = roc_curve(y_test_xgb, y_proba_xgb)\n",
        "\n",
        "# 4. Calculate AUC\n",
        "roc_auc = auc(fpr, tpr)\n",
        "\n",
        "# 5. Plot ROC curve\n",
        "plt.figure(figsize=(8,6))\n",
        "plt.plot(fpr, tpr, color='blue', lw=2, label=f'XGBoost (AUC = {roc_auc:.3f})')\n",
        "plt.plot([0, 1], [0, 1], color='grey', linestyle='--', lw=1)\n",
        "plt.xlabel('False Positive Rate')\n",
        "plt.ylabel('True Positive Rate')\n",
        "plt.title('ROC Curve - XGBoost (Pseudo-Labeling Fine-Tuned)')\n",
        "plt.legend(loc='lower right')\n",
        "plt.grid()\n",
        "plt.show()"
      ],
      "metadata": {
        "colab": {
          "base_uri": "https://localhost:8080/",
          "height": 564
        },
        "id": "ym04fjlauQwg",
        "outputId": "75a3c244-c790-48dd-d6ce-95c93dc83c85"
      },
      "execution_count": 10,
      "outputs": [
        {
          "output_type": "display_data",
          "data": {
            "text/plain": [
              "<Figure size 800x600 with 1 Axes>"
            ],
            "image/png": "[encoded data removed]"
          },
          "metadata": {}
        }
      ]
    },
    {
      "cell_type": "code",
      "source": [
        "print(len(y_test))"
      ],
      "metadata": {
        "colab": {
          "base_uri": "https://localhost:8080/"
        },
        "id": "UTCbQmmnFbZa",
        "outputId": "c6ccb3c6-a083-4156-a9c6-1a098d900075"
      },
      "execution_count": null,
      "outputs": [
        {
          "output_type": "stream",
          "name": "stdout",
          "text": [
            "251\n"
          ]
        }
      ]
    }
  ]
}