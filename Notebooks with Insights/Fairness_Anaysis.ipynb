{
  "nbformat": 4,
  "nbformat_minor": 0,
  "metadata": {
    "colab": {
      "provenance": []
    },
    "kernelspec": {
      "name": "python3",
      "display_name": "Python 3"
    },
    "language_info": {
      "name": "python"
    }
  },
  "cells": [
    {
      "cell_type": "markdown",
      "source": [
        "# Introduction"
      ],
      "metadata": {
        "id": "hsCnwN-MopN_"
      }
    },
    {
      "cell_type": "markdown",
      "source": [
        "This notebook conducts a **fairness analysis** on a machine learning model trained to predict mental health treatment needs based on survey data. The model aims to classify whether individuals are likely to seek or receive treatment (treatment as the target). Fairness evaluation is performed across key sensitive attributes, including **Gender, Age Group and Country** to ensure equitable prediction outcomes across diverse groups. The analysis at the end identifies potential biases in model predictions and highlights groups that may be at risk of under- or over-prediction."
      ],
      "metadata": {
        "id": "OP5nu8FlogFH"
      }
    },
    {
      "cell_type": "markdown",
      "source": [
        "This notebook conducts a fairness analysis on a machine learning model trained to predict mental health treatment needs (treatment) based on survey data.\n",
        "We evaluated the model's fairness across key sensitive attributes — **Gender, Age Group and Country** — using metrics such as **Selection Rate, Disparate Impact (DI), Equalized Odds Difference (EOD), and True Positive Rate (TPR)**.\n"
      ],
      "metadata": {
        "id": "UHPMBcuypBwt"
      }
    },
    {
      "cell_type": "markdown",
      "source": [
        "## Model and Data Preparation Section"
      ],
      "metadata": {
        "id": "WCzehA1FleIg"
      }
    },
    {
      "cell_type": "code",
      "execution_count": null,
      "metadata": {
        "colab": {
          "base_uri": "https://localhost:8080/",
          "height": 1000
        },
        "id": "bTAfp1CowR4k",
        "outputId": "d8115b87-a731-4646-c31b-28e99ff8d8f0"
      },
      "outputs": [
        {
          "output_type": "stream",
          "name": "stdout",
          "text": [
            "Mounted at /content/drive\n",
            "Requirement already satisfied: matplotlib-venn in /usr/local/lib/python3.11/dist-packages (1.1.2)\n",
            "Requirement already satisfied: matplotlib in /usr/local/lib/python3.11/dist-packages (from matplotlib-venn) (3.10.0)\n",
            "Requirement already satisfied: numpy in /usr/local/lib/python3.11/dist-packages (from matplotlib-venn) (2.0.2)\n",
            "Requirement already satisfied: scipy in /usr/local/lib/python3.11/dist-packages (from matplotlib-venn) (1.14.1)\n",
            "Requirement already satisfied: contourpy>=1.0.1 in /usr/local/lib/python3.11/dist-packages (from matplotlib->matplotlib-venn) (1.3.2)\n",
            "Requirement already satisfied: cycler>=0.10 in /usr/local/lib/python3.11/dist-packages (from matplotlib->matplotlib-venn) (0.12.1)\n",
            "Requirement already satisfied: fonttools>=4.22.0 in /usr/local/lib/python3.11/dist-packages (from matplotlib->matplotlib-venn) (4.57.0)\n",
            "Requirement already satisfied: kiwisolver>=1.3.1 in /usr/local/lib/python3.11/dist-packages (from matplotlib->matplotlib-venn) (1.4.8)\n",
            "Requirement already satisfied: packaging>=20.0 in /usr/local/lib/python3.11/dist-packages (from matplotlib->matplotlib-venn) (24.2)\n",
            "Requirement already satisfied: pillow>=8 in /usr/local/lib/python3.11/dist-packages (from matplotlib->matplotlib-venn) (11.1.0)\n",
            "Requirement already satisfied: pyparsing>=2.3.1 in /usr/local/lib/python3.11/dist-packages (from matplotlib->matplotlib-venn) (3.2.3)\n",
            "Requirement already satisfied: python-dateutil>=2.7 in /usr/local/lib/python3.11/dist-packages (from matplotlib->matplotlib-venn) (2.8.2)\n",
            "Requirement already satisfied: six>=1.5 in /usr/local/lib/python3.11/dist-packages (from python-dateutil>=2.7->matplotlib->matplotlib-venn) (1.17.0)\n",
            "Selecting previously unselected package libarchive-dev:amd64.\n",
            "(Reading database ... 126333 files and directories currently installed.)\n",
            "Preparing to unpack .../libarchive-dev_3.6.0-1ubuntu1.4_amd64.deb ...\n",
            "Unpacking libarchive-dev:amd64 (3.6.0-1ubuntu1.4) ...\n",
            "Setting up libarchive-dev:amd64 (3.6.0-1ubuntu1.4) ...\n",
            "Processing triggers for man-db (2.10.2-1) ...\n",
            "Collecting libarchive\n",
            "  Downloading libarchive-0.4.7.tar.gz (23 kB)\n",
            "  Preparing metadata (setup.py) ... \u001b[?25l\u001b[?25hdone\n",
            "Collecting nose (from libarchive)\n",
            "  Downloading nose-1.3.7-py3-none-any.whl.metadata (1.7 kB)\n",
            "Downloading nose-1.3.7-py3-none-any.whl (154 kB)\n",
            "\u001b[2K   \u001b[90m━━━━━━━━━━━━━━━━━━━━━━━━━━━━━━━━━━━━━━━━\u001b[0m \u001b[32m154.7/154.7 kB\u001b[0m \u001b[31m7.3 MB/s\u001b[0m eta \u001b[36m0:00:00\u001b[0m\n",
            "\u001b[?25hBuilding wheels for collected packages: libarchive\n",
            "  Building wheel for libarchive (setup.py) ... \u001b[?25l\u001b[?25hdone\n",
            "  Created wheel for libarchive: filename=libarchive-0.4.7-py3-none-any.whl size=31629 sha256=002a6e93dd99b8eeffc7fc6b1ed7f9a85682f4b206c00af520d632bf1efe6e57\n",
            "  Stored in directory: /root/.cache/pip/wheels/32/98/bd/4893d6923dd027f455b250367d402bfd69a6f4416581df46db\n",
            "Successfully built libarchive\n",
            "Installing collected packages: nose, libarchive\n",
            "Successfully installed libarchive-0.4.7 nose-1.3.7\n",
            "Requirement already satisfied: pydot in /usr/local/lib/python3.11/dist-packages (3.0.4)\n",
            "Requirement already satisfied: pyparsing>=3.0.9 in /usr/local/lib/python3.11/dist-packages (from pydot) (3.2.3)\n",
            "Collecting cartopy\n",
            "  Downloading Cartopy-0.24.1-cp311-cp311-manylinux_2_17_x86_64.manylinux2014_x86_64.whl.metadata (7.9 kB)\n",
            "Requirement already satisfied: numpy>=1.23 in /usr/local/lib/python3.11/dist-packages (from cartopy) (2.0.2)\n",
            "Requirement already satisfied: matplotlib>=3.6 in /usr/local/lib/python3.11/dist-packages (from cartopy) (3.10.0)\n",
            "Requirement already satisfied: shapely>=1.8 in /usr/local/lib/python3.11/dist-packages (from cartopy) (2.1.0)\n",
            "Requirement already satisfied: packaging>=21 in /usr/local/lib/python3.11/dist-packages (from cartopy) (24.2)\n",
            "Requirement already satisfied: pyshp>=2.3 in /usr/local/lib/python3.11/dist-packages (from cartopy) (2.3.1)\n",
            "Requirement already satisfied: pyproj>=3.3.1 in /usr/local/lib/python3.11/dist-packages (from cartopy) (3.7.1)\n",
            "Requirement already satisfied: contourpy>=1.0.1 in /usr/local/lib/python3.11/dist-packages (from matplotlib>=3.6->cartopy) (1.3.2)\n",
            "Requirement already satisfied: cycler>=0.10 in /usr/local/lib/python3.11/dist-packages (from matplotlib>=3.6->cartopy) (0.12.1)\n",
            "Requirement already satisfied: fonttools>=4.22.0 in /usr/local/lib/python3.11/dist-packages (from matplotlib>=3.6->cartopy) (4.57.0)\n",
            "Requirement already satisfied: kiwisolver>=1.3.1 in /usr/local/lib/python3.11/dist-packages (from matplotlib>=3.6->cartopy) (1.4.8)\n",
            "Requirement already satisfied: pillow>=8 in /usr/local/lib/python3.11/dist-packages (from matplotlib>=3.6->cartopy) (11.1.0)\n",
            "Requirement already satisfied: pyparsing>=2.3.1 in /usr/local/lib/python3.11/dist-packages (from matplotlib>=3.6->cartopy) (3.2.3)\n",
            "Requirement already satisfied: python-dateutil>=2.7 in /usr/local/lib/python3.11/dist-packages (from matplotlib>=3.6->cartopy) (2.8.2)\n",
            "Requirement already satisfied: certifi in /usr/local/lib/python3.11/dist-packages (from pyproj>=3.3.1->cartopy) (2025.1.31)\n",
            "Requirement already satisfied: six>=1.5 in /usr/local/lib/python3.11/dist-packages (from python-dateutil>=2.7->matplotlib>=3.6->cartopy) (1.17.0)\n",
            "Downloading Cartopy-0.24.1-cp311-cp311-manylinux_2_17_x86_64.manylinux2014_x86_64.whl (11.7 MB)\n",
            "\u001b[2K   \u001b[90m━━━━━━━━━━━━━━━━━━━━━━━━━━━━━━━━━━━━━━━━\u001b[0m \u001b[32m11.7/11.7 MB\u001b[0m \u001b[31m64.9 MB/s\u001b[0m eta \u001b[36m0:00:00\u001b[0m\n",
            "\u001b[?25hInstalling collected packages: cartopy\n",
            "Successfully installed cartopy-0.24.1\n",
            "W: Skipping acquire of configured file 'main/source/Sources' as repository 'https://r2u.stat.illinois.edu/ubuntu jammy InRelease' does not seem to provide it (sources.list entry misspelt?)\n",
            "Reading package lists... Done\n",
            "Building dependency tree... Done\n",
            "Reading state information... Done\n",
            "libarchive-dev is already the newest version (3.6.0-1ubuntu1.4).\n",
            "0 upgraded, 0 newly installed, 0 to remove and 35 not upgraded.\n",
            "Collecting libarchive-c\n",
            "  Downloading libarchive_c-5.2-py3-none-any.whl.metadata (5.5 kB)\n",
            "Downloading libarchive_c-5.2-py3-none-any.whl (15 kB)\n",
            "Installing collected packages: libarchive-c\n",
            "Successfully installed libarchive-c-5.2\n"
          ]
        },
        {
          "output_type": "display_data",
          "data": {
            "application/vnd.colab-display-data+json": {
              "pip_warning": {
                "packages": [
                  "libarchive"
                ]
              },
              "id": "122dc4a776d94c4c99abb4ba8e066639"
            }
          },
          "metadata": {}
        },
        {
          "output_type": "stream",
          "name": "stdout",
          "text": [
            "Import succeeded: <module 'libarchive' from '/usr/local/lib/python3.11/dist-packages/libarchive/__init__.py'>\n"
          ]
        }
      ],
      "source": [
        "import pandas as pd\n",
        "import numpy as np\n",
        "from google.colab import drive\n",
        "drive.mount('/content/drive')\n",
        "path = '/content/drive/MyDrive/survey.csv'\n",
        "df = pd.read_csv(path, encoding='latin1')\n",
        "\n",
        "df = df.drop(columns=['comments', 'Timestamp', 'state', 'no_employees', 'anonymity'])\n",
        "df = df[(df['Age'] >= 18) & (df['Age'] <= 100)]\n",
        "df['self_employed'] = df['self_employed'].fillna('No')\n",
        "df.drop_duplicates()\n",
        "df['work_interfere'] = df['work_interfere'].fillna('Not applicable')\n",
        "\n",
        "#Function to clean the gender variable into 'female', 'male', and 'other'\n",
        "def clean_gender(gender):\n",
        "    gender = str(gender).strip().lower()\n",
        "    if gender in ['male', 'm', 'cis male', 'male (cis)', 'man', 'mail', 'cis man', 'malr', 'make', 'maile']:\n",
        "        return 'Male'\n",
        "    elif gender in ['female', 'f', 'cis female', 'woman', 'female (cis)', 'cis-female/femme', 'femake', 'femail', 'female ', 'trans female']:\n",
        "        return 'Female'\n",
        "    else:\n",
        "        return 'Other'\n",
        "\n",
        "# Apply the cleaning function\n",
        "df['Gender'] = df['Gender'].apply(clean_gender)\n",
        "\n",
        "for col in ['Gender','Country','self_employed','family_history','work_interfere','remote_work','tech_company','benefits','care_options',\n",
        "            'wellness_program','seek_help','leave','mental_health_consequence','phys_health_consequence','coworkers','supervisor',\n",
        "            'mental_health_interview','phys_health_interview','mental_vs_physical','obs_consequence']:\n",
        "            vc = df[col].value_counts(normalize=True)\n",
        "            rare = vc[vc < 0.01]\n",
        "\n",
        "vc = df['Country'].value_counts(normalize=True)\n",
        "rare = vc[vc < 0.01]\n",
        "rare_labels = rare.index.tolist()\n",
        "df['Country_grouped'] = df['Country'].replace(rare_labels, 'Other')\n",
        "\n",
        "!pip install matplotlib-venn\n",
        "\n",
        "# https://pypi.python.org/pypi/libarchive\n",
        "!apt-get -qq install -y libarchive-dev && pip install -U libarchive\n",
        "import libarchive\n",
        "\n",
        "# https://pypi.python.org/pypi/pydot\n",
        "!apt-get -qq install -y graphviz && pip install pydot\n",
        "import pydot\n",
        "\n",
        "!pip install cartopy\n",
        "import cartopy\n",
        "\n",
        "!apt-get update -qq\n",
        "!apt-get install -y libarchive-dev\n",
        "\n",
        "!pip install libarchive-c\n",
        "\n",
        "# Test\n",
        "import libarchive\n",
        "print(\"Import succeeded:\", libarchive)\n",
        "\n",
        "import pandas as pd\n",
        "import numpy as np\n",
        "\n",
        "from sklearn.model_selection import train_test_split\n",
        "from sklearn.preprocessing import OneHotEncoder\n",
        "from sklearn.compose import ColumnTransformer\n",
        "from sklearn.pipeline import Pipeline\n",
        "from sklearn.linear_model import LogisticRegression\n",
        "from sklearn.ensemble import RandomForestClassifier\n",
        "from xgboost import XGBClassifier\n",
        "from sklearn.semi_supervised import SelfTrainingClassifier, LabelPropagation\n",
        "from sklearn.metrics import classification_report, roc_auc_score\n",
        "\n",
        "# 1. Load and preprocess data\n",
        "df['treatment'] = df['treatment'].map({'Yes': 1, 'No': 0})\n",
        "\n",
        "# 2. Define features and target\n",
        "cat_cols = [\n",
        "    'Gender', 'Country_grouped', 'self_employed', 'family_history',\n",
        "    'work_interfere', 'remote_work', 'tech_company', 'benefits',\n",
        "    'care_options', 'wellness_program', 'seek_help', 'leave',\n",
        "    'mental_health_consequence', 'phys_health_consequence',\n",
        "    'coworkers', 'supervisor', 'mental_health_interview',\n",
        "    'phys_health_interview', 'mental_vs_physical', 'obs_consequence'\n",
        "]\n",
        "num_cols = ['Age']\n",
        "target = 'treatment'\n",
        "\n",
        "X = df[cat_cols + num_cols]\n",
        "y = df[target]"
      ]
    },
    {
      "cell_type": "code",
      "source": [
        "# 3. Split train/test\n",
        "X_train, X_test, y_train, y_test = train_test_split(\n",
        "    X, y, stratify=y, test_size=0.2, random_state=42\n",
        ")"
      ],
      "metadata": {
        "id": "u0C-9pIbwYE8"
      },
      "execution_count": null,
      "outputs": []
    },
    {
      "cell_type": "code",
      "source": [
        "import numpy as np\n",
        "import pandas as pd\n",
        "from sklearn.model_selection import train_test_split\n",
        "from sklearn.pipeline import Pipeline\n",
        "from sklearn.compose import ColumnTransformer\n",
        "from sklearn.preprocessing import OneHotEncoder\n",
        "from sklearn.linear_model import LogisticRegression\n",
        "from sklearn.ensemble import RandomForestClassifier\n",
        "from xgboost import XGBClassifier\n",
        "from sklearn.semi_supervised import SelfTrainingClassifier\n",
        "from sklearn.metrics import classification_report"
      ],
      "metadata": {
        "id": "Ohsy34Ol0GLP"
      },
      "execution_count": null,
      "outputs": []
    },
    {
      "cell_type": "code",
      "source": [
        "def apply_pseudo_labeling(base_model, X_labeled, y_labeled, X_unlabeled, preprocessor=None, threshold=0.9):\n",
        "\n",
        "    # Fit and transform preprocessing if provided\n",
        "    if preprocessor is not None:\n",
        "        preprocessor.fit(X_labeled)\n",
        "        X_labeled_encoded = preprocessor.transform(X_labeled)\n",
        "        X_unlabeled_encoded = preprocessor.transform(X_unlabeled)\n",
        "    else:\n",
        "        X_labeled_encoded = X_labeled\n",
        "        X_unlabeled_encoded = X_unlabeled\n",
        "\n",
        "    # Train the base model\n",
        "    base_model.fit(X_labeled_encoded, y_labeled)\n",
        "\n",
        "    # Predict pseudo-labels for unlabeled data\n",
        "    proba_unlabeled = base_model.predict_proba(X_unlabeled_encoded)\n",
        "    preds_unlabeled = np.argmax(proba_unlabeled, axis=1)\n",
        "    max_proba = np.max(proba_unlabeled, axis=1)\n",
        "\n",
        "    # Select high-confidence pseudo-labeled samples\n",
        "    mask = max_proba >= threshold\n",
        "    X_pseudo = X_unlabeled.iloc[mask]\n",
        "    y_pseudo = preds_unlabeled[mask]\n",
        "\n",
        "    # Combine original labeled data with pseudo-labeled data\n",
        "    X_augmented = pd.concat([X_labeled, X_pseudo], axis=0)\n",
        "    y_augmented = pd.concat([y_labeled, pd.Series(y_pseudo, index=X_pseudo.index)], axis=0)\n",
        "\n",
        "    return X_augmented, y_augmented"
      ],
      "metadata": {
        "id": "s0PKQXHp0bZQ"
      },
      "execution_count": null,
      "outputs": []
    },
    {
      "cell_type": "code",
      "source": [
        "# Fill missing values for categorical columns\n",
        "X[cat_cols] = X[cat_cols].fillna('Missing').astype(str)\n",
        "\n",
        "# Preprocessor for LR, RF, XGB\n",
        "ohe = OneHotEncoder(handle_unknown='ignore', sparse_output=False)\n",
        "preprocessor = ColumnTransformer(\n",
        "    [('onehot', ohe, cat_cols)],\n",
        "    remainder='passthrough'\n",
        ")\n",
        "\n",
        "# Base models\n",
        "xgb = XGBClassifier(random_state=42, use_label_encoder=False, eval_metric='logloss')\n",
        "\n",
        "# Pipelines for models needing preprocessing\n",
        "\n",
        "xgb_pipeline = Pipeline([\n",
        "    ('preprocess', preprocessor),\n",
        "    ('classifier', xgb)\n",
        "])"
      ],
      "metadata": {
        "colab": {
          "base_uri": "https://localhost:8080/"
        },
        "id": "DRl-7GVO0c52",
        "outputId": "f28da4e5-bae2-45a1-e7c2-dacbe1fe0670"
      },
      "execution_count": null,
      "outputs": [
        {
          "output_type": "stream",
          "name": "stderr",
          "text": [
            "<ipython-input-5-41be26e93de1>:2: SettingWithCopyWarning: \n",
            "A value is trying to be set on a copy of a slice from a DataFrame.\n",
            "Try using .loc[row_indexer,col_indexer] = value instead\n",
            "\n",
            "See the caveats in the documentation: https://pandas.pydata.org/pandas-docs/stable/user_guide/indexing.html#returning-a-view-versus-a-copy\n",
            "  X[cat_cols] = X[cat_cols].fillna('Missing').astype(str)\n"
          ]
        }
      ]
    },
    {
      "cell_type": "code",
      "source": [
        "# Further split X_train_base into Labeled and Unlabeled simulation\n",
        "X_labeled, X_unlabeled, y_labeled, _ = train_test_split(\n",
        "    X_train, y_train, stratify=y_train, test_size=0.2, random_state=42\n",
        ")"
      ],
      "metadata": {
        "id": "eWzOKOck0nB2"
      },
      "execution_count": null,
      "outputs": []
    },
    {
      "cell_type": "code",
      "source": [
        "print(\"===== PSEUDO-LABELING =====\")\n",
        "\n",
        "# XGBoost (Pseudo-Labeling)\n",
        "X_aug_xgb, y_aug_xgb = apply_pseudo_labeling(xgb, X_labeled, y_labeled, X_unlabeled, preprocessor=preprocessor, threshold=0.95)\n",
        "X_train_xgb, X_test_xgb, y_train_xgb, y_test_xgb = train_test_split(X_aug_xgb, y_aug_xgb, stratify=y_aug_xgb, test_size=0.2, random_state=42)\n",
        "xgb_pipeline.fit(X_train_xgb, y_train_xgb)\n",
        "y_pred_xgb = xgb_pipeline.predict(X_test_xgb)\n",
        "print(\"Pseudo-Labeling XGBoost:\\n\", classification_report(y_test_xgb, y_pred_xgb))"
      ],
      "metadata": {
        "colab": {
          "base_uri": "https://localhost:8080/"
        },
        "id": "IDHQIhwl0ed9",
        "outputId": "b55d89af-d2a8-44bc-fec0-d410b7c426c7"
      },
      "execution_count": null,
      "outputs": [
        {
          "output_type": "stream",
          "name": "stdout",
          "text": [
            "===== PSEUDO-LABELING =====\n"
          ]
        },
        {
          "output_type": "stream",
          "name": "stderr",
          "text": [
            "/usr/local/lib/python3.11/dist-packages/xgboost/core.py:158: UserWarning: [07:39:24] WARNING: /workspace/src/learner.cc:740: \n",
            "Parameters: { \"use_label_encoder\" } are not used.\n",
            "\n",
            "  warnings.warn(smsg, UserWarning)\n"
          ]
        },
        {
          "output_type": "stream",
          "name": "stdout",
          "text": [
            "Pseudo-Labeling XGBoost:\n",
            "               precision    recall  f1-score   support\n",
            "\n",
            "           0       0.90      0.88      0.89        93\n",
            "           1       0.88      0.90      0.89        91\n",
            "\n",
            "    accuracy                           0.89       184\n",
            "   macro avg       0.89      0.89      0.89       184\n",
            "weighted avg       0.89      0.89      0.89       184\n",
            "\n"
          ]
        },
        {
          "output_type": "stream",
          "name": "stderr",
          "text": [
            "/usr/local/lib/python3.11/dist-packages/xgboost/core.py:158: UserWarning: [07:39:25] WARNING: /workspace/src/learner.cc:740: \n",
            "Parameters: { \"use_label_encoder\" } are not used.\n",
            "\n",
            "  warnings.warn(smsg, UserWarning)\n"
          ]
        }
      ]
    },
    {
      "cell_type": "code",
      "source": [
        "from sklearn.model_selection import RandomizedSearchCV\n",
        "from sklearn.pipeline import Pipeline\n",
        "from sklearn.compose import ColumnTransformer\n",
        "from sklearn.preprocessing import OneHotEncoder, StandardScaler\n",
        "from sklearn.metrics import classification_report\n",
        "from xgboost import XGBClassifier\n",
        "import joblib\n",
        "import os\n",
        "import json\n",
        "\n",
        "print(\"===== FINE-TUNING PSEUDO-LABELING XGBOOST (Small LR + More Trees) =====\")\n",
        "\n",
        "# 1. Pseudo-labeling\n",
        "X_aug_xgb, y_aug_xgb = apply_pseudo_labeling(xgb, X_labeled, y_labeled, X_unlabeled, preprocessor=preprocessor, threshold=0.95)\n",
        "\n",
        "# 2. Train-test split\n",
        "X_train_xgb, X_test_xgb, y_train_xgb, y_test_xgb = train_test_split(\n",
        "    X_aug_xgb, y_aug_xgb, stratify=y_aug_xgb, test_size=0.2, random_state=42\n",
        ")\n",
        "\n",
        "# 3. Column types\n",
        "categorical_cols = X_train_xgb.select_dtypes(include=['object']).columns.tolist()\n",
        "numerical_cols = X_train_xgb.select_dtypes(exclude=['object']).columns.tolist()\n",
        "\n",
        "# 4. Preprocessor\n",
        "preprocessor = ColumnTransformer(transformers=[\n",
        "    ('cat', OneHotEncoder(handle_unknown='ignore'), categorical_cols),\n",
        "    ('num', StandardScaler(), numerical_cols)\n",
        "])\n",
        "\n",
        "# 5. Pipeline\n",
        "xgb_pipeline = Pipeline(steps=[\n",
        "    ('preprocessor', preprocessor),\n",
        "    ('classifier', XGBClassifier(use_label_encoder=False, eval_metric='logloss', random_state=42))\n",
        "])\n",
        "\n",
        "# 6. New hyperparameter search space\n",
        "param_dist = {\n",
        "    'classifier__n_estimators': [300, 400, 500, 600, 800],\n",
        "    'classifier__max_depth': [3, 4, 5, 6],\n",
        "    'classifier__learning_rate': [0.01, 0.03, 0.05, 0.07],\n",
        "    'classifier__subsample': [0.7, 0.8, 0.9, 1.0],\n",
        "    'classifier__colsample_bytree': [0.7, 0.8, 0.9, 1.0],\n",
        "    'classifier__gamma': [0, 0.05, 0.1],\n",
        "    'classifier__reg_alpha': [0, 0.01, 0.1],\n",
        "    'classifier__reg_lambda': [1, 1.5, 2.0]\n",
        "}\n",
        "\n",
        "# 7. RandomizedSearchCV\n",
        "random_search = RandomizedSearchCV(\n",
        "    estimator=xgb_pipeline,\n",
        "    param_distributions=param_dist,\n",
        "    n_iter=50,\n",
        "    scoring='accuracy',\n",
        "    cv=5,\n",
        "    verbose=2,\n",
        "    random_state=42,\n",
        "    n_jobs=-1\n",
        ")\n",
        "\n",
        "# 8. Fit\n",
        "random_search.fit(X_train_xgb, y_train_xgb)\n",
        "\n",
        "# 9. Predict\n",
        "best_xgb_pipeline = random_search.best_estimator_\n",
        "y_pred_xgb = best_xgb_pipeline.predict(X_test_xgb)\n",
        "\n",
        "# 10. Report\n",
        "print(\"\\n===== Best Parameters =====\")\n",
        "print(random_search.best_params_)\n",
        "\n",
        "print(\"\\n===== Best Cross-Validation Accuracy =====\")\n",
        "print(random_search.best_score_)\n",
        "\n",
        "print(\"\\n===== Test Set Classification Report =====\")\n",
        "print(classification_report(y_test_xgb, y_pred_xgb))\n",
        "\n",
        "# 11. Save model and best params\n",
        "save_dir = \"/content/models\"\n",
        "os.makedirs(save_dir, exist_ok=True)\n",
        "\n",
        "joblib.dump(best_xgb_pipeline, os.path.join(save_dir, \"best_xgb_pipeline_v2.pkl\"))\n",
        "print(f\"Model saved to {save_dir}/best_xgb_pipeline_v2.pkl\")\n",
        "\n",
        "with open(os.path.join(save_dir, \"best_xgb_params_v2.json\"), \"w\") as f:\n",
        "    json.dump(random_search.best_params_, f, indent=4)\n",
        "print(f\"Best parameters saved to {save_dir}/best_xgb_params_v2.json\")"
      ],
      "metadata": {
        "colab": {
          "base_uri": "https://localhost:8080/"
        },
        "id": "G3zeiztB0gj6",
        "outputId": "eb53eed6-1de5-4ab0-ed61-468573675c7a"
      },
      "execution_count": null,
      "outputs": [
        {
          "output_type": "stream",
          "name": "stdout",
          "text": [
            "===== FINE-TUNING PSEUDO-LABELING XGBOOST (Small LR + More Trees) =====\n"
          ]
        },
        {
          "output_type": "stream",
          "name": "stderr",
          "text": [
            "/usr/local/lib/python3.11/dist-packages/xgboost/core.py:158: UserWarning: [07:39:25] WARNING: /workspace/src/learner.cc:740: \n",
            "Parameters: { \"use_label_encoder\" } are not used.\n",
            "\n",
            "  warnings.warn(smsg, UserWarning)\n"
          ]
        },
        {
          "output_type": "stream",
          "name": "stdout",
          "text": [
            "Fitting 5 folds for each of 50 candidates, totalling 250 fits\n",
            "\n",
            "===== Best Parameters =====\n",
            "{'classifier__subsample': 0.8, 'classifier__reg_lambda': 2.0, 'classifier__reg_alpha': 0.1, 'classifier__n_estimators': 300, 'classifier__max_depth': 5, 'classifier__learning_rate': 0.03, 'classifier__gamma': 0.1, 'classifier__colsample_bytree': 0.7}\n",
            "\n",
            "===== Best Cross-Validation Accuracy =====\n",
            "0.840089460441711\n",
            "\n",
            "===== Test Set Classification Report =====\n",
            "              precision    recall  f1-score   support\n",
            "\n",
            "           0       0.92      0.88      0.90        93\n",
            "           1       0.88      0.92      0.90        91\n",
            "\n",
            "    accuracy                           0.90       184\n",
            "   macro avg       0.90      0.90      0.90       184\n",
            "weighted avg       0.90      0.90      0.90       184\n",
            "\n",
            "Model saved to /content/models/best_xgb_pipeline_v2.pkl\n",
            "Best parameters saved to /content/models/best_xgb_params_v2.json\n"
          ]
        },
        {
          "output_type": "stream",
          "name": "stderr",
          "text": [
            "/usr/local/lib/python3.11/dist-packages/xgboost/core.py:158: UserWarning: [07:40:27] WARNING: /workspace/src/learner.cc:740: \n",
            "Parameters: { \"use_label_encoder\" } are not used.\n",
            "\n",
            "  warnings.warn(smsg, UserWarning)\n"
          ]
        }
      ]
    },
    {
      "cell_type": "markdown",
      "source": [
        "## Fariness Analysis Section"
      ],
      "metadata": {
        "id": "ujgB_bo03wqf"
      }
    },
    {
      "cell_type": "markdown",
      "source": [
        "### **Sensitive Feature Extraction**\n",
        "\n",
        "In fairness evaluation, sensitive features are chosen based on their relevance to societal bias, historical disparities, and the potential for unequal treatment outcomes.  \n",
        "For this mental health treatment prediction task, we selected **Gender, Age Group, and Country** as sensitive features because they are closely linked to historical disparities in mental health access and diagnosis, and may influence the likelihood of being identified for treatment."
      ],
      "metadata": {
        "id": "1p4sA2-y35cl"
      }
    },
    {
      "cell_type": "code",
      "source": [
        "# === 1. Process Age: Binning into age_group ===\n",
        "import pandas as pd\n",
        "\n",
        "# Assume your X_test already contains a column named \"Age\"\n",
        "# Define binning rules, for example: 18-25, 26-35, 36-45, 45+\n",
        "bins = [0, 25, 35, 45, 100]\n",
        "labels = ['18-25', '26-35', '36-45', '45+']\n",
        "X_test[\"age_group\"] = pd.cut(X_test[\"Age\"], bins=bins, labels=labels, right=False)\n",
        "\n",
        "# === 2. Process Gender: Cleaning and standardization ===\n",
        "\n",
        "# Standardize the \"Gender\" field into 'male' / 'female' / 'other'\n",
        "def clean_gender(gender):\n",
        "    if pd.isnull(gender):\n",
        "        return \"Unknown\"\n",
        "    gender = gender.strip().lower()\n",
        "    if gender in [\"male\", \"m\", \"man\", \"cis male\", \"cis man\"]:\n",
        "        return \"male\"\n",
        "    elif gender in [\"female\", \"f\", \"woman\", \"cis female\", \"cis woman\"]:\n",
        "        return \"female\"\n",
        "    else:\n",
        "        return \"other\"\n",
        "\n",
        "X_test[\"gender_clean\"] = X_test[\"Gender\"].apply(clean_gender)\n",
        "\n",
        "# (Optional) You may merge \"other\" and \"Unknown\" into a single group\n",
        "# depending on the sample size of each group\n",
        "\n",
        "# === 3. Create the sensitive_features dataframe ===\n",
        "sensitive_features = X_test[[\"gender_clean\", \"age_group\"]].copy()\n",
        "sensitive_features.columns = [\"gender\", \"age_group\"]  # Rename for consistency"
      ],
      "metadata": {
        "id": "GslD7P790r8c"
      },
      "execution_count": null,
      "outputs": []
    },
    {
      "cell_type": "code",
      "source": [
        "!pip install fairlearn"
      ],
      "metadata": {
        "colab": {
          "base_uri": "https://localhost:8080/"
        },
        "id": "2nmrtIuz4S_g",
        "outputId": "6089ad1b-bd25-4a20-b9f5-c770732784f7"
      },
      "execution_count": null,
      "outputs": [
        {
          "output_type": "stream",
          "name": "stdout",
          "text": [
            "Collecting fairlearn\n",
            "  Downloading fairlearn-0.12.0-py3-none-any.whl.metadata (7.0 kB)\n",
            "Requirement already satisfied: numpy>=1.24.4 in /usr/local/lib/python3.11/dist-packages (from fairlearn) (2.0.2)\n",
            "Requirement already satisfied: pandas>=2.0.3 in /usr/local/lib/python3.11/dist-packages (from fairlearn) (2.2.2)\n",
            "Requirement already satisfied: scikit-learn>=1.2.1 in /usr/local/lib/python3.11/dist-packages (from fairlearn) (1.6.1)\n",
            "Requirement already satisfied: scipy>=1.9.3 in /usr/local/lib/python3.11/dist-packages (from fairlearn) (1.14.1)\n",
            "Requirement already satisfied: python-dateutil>=2.8.2 in /usr/local/lib/python3.11/dist-packages (from pandas>=2.0.3->fairlearn) (2.8.2)\n",
            "Requirement already satisfied: pytz>=2020.1 in /usr/local/lib/python3.11/dist-packages (from pandas>=2.0.3->fairlearn) (2025.2)\n",
            "Requirement already satisfied: tzdata>=2022.7 in /usr/local/lib/python3.11/dist-packages (from pandas>=2.0.3->fairlearn) (2025.2)\n",
            "Requirement already satisfied: joblib>=1.2.0 in /usr/local/lib/python3.11/dist-packages (from scikit-learn>=1.2.1->fairlearn) (1.4.2)\n",
            "Requirement already satisfied: threadpoolctl>=3.1.0 in /usr/local/lib/python3.11/dist-packages (from scikit-learn>=1.2.1->fairlearn) (3.6.0)\n",
            "Requirement already satisfied: six>=1.5 in /usr/local/lib/python3.11/dist-packages (from python-dateutil>=2.8.2->pandas>=2.0.3->fairlearn) (1.17.0)\n",
            "Downloading fairlearn-0.12.0-py3-none-any.whl (240 kB)\n",
            "\u001b[2K   \u001b[90m━━━━━━━━━━━━━━━━━━━━━━━━━━━━━━━━━━━━━━━━\u001b[0m \u001b[32m240.0/240.0 kB\u001b[0m \u001b[31m3.8 MB/s\u001b[0m eta \u001b[36m0:00:00\u001b[0m\n",
            "\u001b[?25hInstalling collected packages: fairlearn\n",
            "Successfully installed fairlearn-0.12.0\n"
          ]
        }
      ]
    },
    {
      "cell_type": "markdown",
      "source": [
        "### Accuracy and Selection Rate"
      ],
      "metadata": {
        "id": "D7LH41k-mvuM"
      }
    },
    {
      "cell_type": "code",
      "source": [
        "# === Import necessary packages for fairness analysis ===\n",
        "from fairlearn.metrics import MetricFrame, selection_rate, demographic_parity_ratio, equalized_odds_difference\n",
        "from sklearn.metrics import accuracy_score as sk_accuracy_score\n",
        "\n",
        "# Make predictions\n",
        "y_pred_xgb = best_xgb_pipeline.predict(X_test)\n",
        "\n",
        "# Fairness analysis by Gender\n",
        "print(\"=== Gender Fairness Analysis ===\")\n",
        "gender_metric = MetricFrame(\n",
        "    metrics={\"accuracy\": sk_accuracy_score, \"selection_rate\": selection_rate},\n",
        "    y_true=y_test,\n",
        "    y_pred=y_pred_xgb,\n",
        "    sensitive_features=sensitive_features[\"gender\"]\n",
        ")\n",
        "print(gender_metric.by_group)\n",
        "\n",
        "# Fairness analysis by Age Group\n",
        "print(\"\\n=== Age Group Fairness Analysis ===\")\n",
        "age_metric = MetricFrame(\n",
        "    metrics={\"accuracy\": sk_accuracy_score, \"selection_rate\": selection_rate},\n",
        "    y_true=y_test,\n",
        "    y_pred=y_pred_xgb,\n",
        "    sensitive_features=sensitive_features[\"age_group\"]\n",
        ")\n",
        "print(age_metric.by_group)"
      ],
      "metadata": {
        "colab": {
          "base_uri": "https://localhost:8080/"
        },
        "id": "tJC2Ww9p2BWS",
        "outputId": "69edf838-5bfb-4b0c-c82f-d8dd42eefc4c"
      },
      "execution_count": null,
      "outputs": [
        {
          "output_type": "stream",
          "name": "stdout",
          "text": [
            "=== Gender Fairness Analysis ===\n",
            "        accuracy  selection_rate\n",
            "gender                          \n",
            "female  0.916667        0.770833\n",
            "male    0.801980        0.490099\n",
            "other   1.000000        1.000000\n",
            "\n",
            "=== Age Group Fairness Analysis ===\n",
            "           accuracy  selection_rate\n",
            "age_group                          \n",
            "18-25      0.806452        0.419355\n",
            "26-35      0.857143        0.514286\n",
            "36-45      0.761905        0.666667\n",
            "45+        0.823529        0.588235\n"
          ]
        }
      ]
    },
    {
      "cell_type": "code",
      "source": [
        "# === 1. Import necessary packages ===\n",
        "from fairlearn.metrics import MetricFrame, selection_rate\n",
        "from sklearn.metrics import accuracy_score as sk_accuracy_score\n",
        "\n",
        "# === 2. Make prediction ===\n",
        "y_pred_xgb = best_xgb_pipeline.predict(X_test)\n",
        "\n",
        "# === 3. Map logical feature name to real column name ===\n",
        "feature_mapping = {\n",
        "    \"Gender\": \"gender_clean\",\n",
        "    \"Age Group\": \"age_group\",\n",
        "    \"Country\": \"Country_grouped\",\n",
        "}\n",
        "\n",
        "# === 4. For each sensitive feature, do fairness analysis and print table ===\n",
        "for logical_name, real_column in feature_mapping.items():\n",
        "    print(f\"\\n=== Fairness Analysis by {logical_name} ===\")\n",
        "\n",
        "    # Create MetricFrame for fairness metrics\n",
        "    metric = MetricFrame(\n",
        "        metrics={\"accuracy\": sk_accuracy_score, \"selection_rate\": selection_rate},\n",
        "        y_true=y_test,\n",
        "        y_pred=y_pred_xgb,\n",
        "        sensitive_features=X_test[real_column]\n",
        "    )\n",
        "\n",
        "    # Calculate sample size per group\n",
        "    sample_counts = X_test[real_column].value_counts().to_dict()\n",
        "\n",
        "    # Print nicely\n",
        "    result_df = metric.by_group.copy()\n",
        "    result_df[\"n_samples\"] = result_df.index.map(lambda x: sample_counts.get(x, 0))\n",
        "\n",
        "    # Reorder columns\n",
        "    result_df = result_df[[\"n_samples\", \"accuracy\", \"selection_rate\"]]\n",
        "\n",
        "    print(result_df)\n",
        "\n",
        "    # Warning for small groups\n",
        "    for group, n in sample_counts.items():\n",
        "        if n < 10:\n",
        "            print(f\"\\nWarning: '{group}' has only {n} samples. Interpret fairness metrics with caution.\")"
      ],
      "metadata": {
        "colab": {
          "base_uri": "https://localhost:8080/"
        },
        "id": "l8ZNmOCp5feA",
        "outputId": "abddd027-9377-413b-b674-5457867bbb55"
      },
      "execution_count": null,
      "outputs": [
        {
          "output_type": "stream",
          "name": "stdout",
          "text": [
            "\n",
            "=== Fairness Analysis by Gender ===\n",
            "              n_samples  accuracy  selection_rate\n",
            "gender_clean                                     \n",
            "female               48  0.916667        0.770833\n",
            "male                202  0.801980        0.490099\n",
            "other                 1  1.000000        1.000000\n",
            "\n",
            "Warning: 'other' has only 1 samples. Interpret fairness metrics with caution.\n",
            "\n",
            "=== Fairness Analysis by Age Group ===\n",
            "           n_samples  accuracy  selection_rate\n",
            "age_group                                     \n",
            "18-25             31  0.806452        0.419355\n",
            "26-35            140  0.857143        0.514286\n",
            "36-45             63  0.761905        0.666667\n",
            "45+               17  0.823529        0.588235\n",
            "\n",
            "=== Fairness Analysis by Country ===\n",
            "                 n_samples  accuracy  selection_rate\n",
            "Country_grouped                                     \n",
            "Australia                4  1.000000        0.750000\n",
            "Canada                  15  0.733333        0.466667\n",
            "Germany                  7  0.714286        0.571429\n",
            "Ireland                  5  1.000000        0.400000\n",
            "Netherlands              9  0.555556        0.666667\n",
            "Other                   21  0.857143        0.428571\n",
            "United Kingdom          38  0.815789        0.447368\n",
            "United States          152  0.842105        0.585526\n",
            "\n",
            "Warning: 'Netherlands' has only 9 samples. Interpret fairness metrics with caution.\n",
            "\n",
            "Warning: 'Germany' has only 7 samples. Interpret fairness metrics with caution.\n",
            "\n",
            "Warning: 'Ireland' has only 5 samples. Interpret fairness metrics with caution.\n",
            "\n",
            "Warning: 'Australia' has only 4 samples. Interpret fairness metrics with caution.\n"
          ]
        }
      ]
    },
    {
      "cell_type": "markdown",
      "source": [
        "## **Fairness Analysis (Accuracy and Selection Rate)**\n",
        "This fairness analysis evaluates the model’s prediction performance across different sensitive groups, based on the mental health treatment survey dataset. The objective is to identify potential biases or disparities in prediction outcomes across demographic and employment-related features.\n",
        "\n",
        "The analysis focuses on three main dimensions: **Gender**, **Age Group**, and **Country**.\n",
        "\n",
        "\n",
        "## **1. Gender Fairness**\n",
        "\n",
        "| Gender | n_samples | Accuracy | Selection Rate |\n",
        "|:---|:---|:---|:---|\n",
        "| Female | 48 | 91.7% | 77.1% |\n",
        "| Male | 202 | 80.2% | 49.1% |\n",
        "| Other | 1 | 100.0% | 100.0% |\n",
        "\n",
        "**Findings**:\n",
        "- The model predicts treatment needs for **female** respondents with significantly higher accuracy (91.7%) compared to **male** respondents (80.2%).\n",
        "- **Female** respondents are more likely to be predicted as needing treatment, with a selection rate of 77.1% versus 49.1% for males.\n",
        "- The \"other\" gender group contains only **one** sample, and therefore results for this group are not statistically reliable.\n",
        "\n",
        "**Insight**:\n",
        "- There is a noticeable **underprediction risk for male respondents**, suggesting the model may be less sensitive to treatment needs among males.\n",
        "- Future improvement efforts could focus on boosting recall or balancing sensitivity across genders.\n",
        "\n",
        "## **2. Age Group Fairness**\n",
        "\n",
        "| Age Group | n_samples | Accuracy | Selection Rate |\n",
        "|:---|:---|:---|:---|\n",
        "| 18–25 | 31 | 80.6% | 41.9% |\n",
        "| 26–35 | 140 | 85.7% | 51.4% |\n",
        "| 36–45 | 63 | 76.2% | 66.7% |\n",
        "| 45+ | 17 | 82.4% | 58.8% |\n",
        "\n",
        "**Findings**:\n",
        "- The model performs best for the **26–35** age group, achieving 85.7% accuracy and a moderate selection rate.\n",
        "- The **36–45** group shows the lowest accuracy (76.2%) despite a relatively high selection rate (66.7%).\n",
        "- The **18–25** group has a notably low selection rate (41.9%), suggesting a risk of **missing younger individuals** who might need treatment.\n",
        "\n",
        "**Insight**:\n",
        "- **Potential underprediction exists among the youngest group (18–25 years old)**, which could lead to untreated mental health issues if not addressed.\n",
        "- The model could benefit from calibration to ensure fair sensitivity across age groups, especially for younger respondents.\n",
        "\n",
        "## **3. Country Analysis**\n",
        "\n",
        "Although country information was available, **the distribution across countries was highly imbalanced**, with the United States and United Kingdom comprising the majority of samples (152 and 38 respectively), while other countries had very small sample sizes (4–9 samples each).\n",
        "\n",
        "| Country | n_samples |\n",
        "|:---|:---|\n",
        "| United States | 152 |\n",
        "| United Kingdom | 38 |\n",
        "| Other countries (Australia, Germany, Ireland, Netherlands, etc.) | 4–9 |\n",
        "\n",
        "### Focused Groups\n",
        "\n",
        "We focused fairness evaluation on the **United States** and **United Kingdom** groups, where sample sizes are sufficiently large for reliable analysis.  \n",
        "Minor groups were excluded from primary fairness conclusions due to small sample sizes and statistical instability.\n",
        "\n",
        "\n",
        "### Results Summary (Major Groups)\n",
        "\n",
        "| Country Group | n_samples | Accuracy | Selection Rate |\n",
        "|:---|:---|:---|:---|\n",
        "| United States | 152 | 0.842 | 0.586 |\n",
        "| United Kingdom | 38 | 0.816 | 0.447 |\n",
        "\n",
        "**Findings**\n",
        "\n",
        "- **Consistency Across Major Groups**:  \n",
        "  The model maintained relatively stable performance across the United States and United Kingdom groups, with accuracies around 0.82–0.84 and selection rates between 0.45 and 0.59.\n",
        "\n",
        "- **Selection Rate Difference**:  \n",
        "  While the United States group exhibited a slightly higher selection rate (0.586) compared to the United Kingdom (0.447), the difference is moderate and within an acceptable range.\n",
        "\n",
        "\n",
        "**Insights**:  \n",
        "- Based on available data, no significant country-level bias was detected between the United States and United Kingdom groups.  \n",
        "- However, ongoing monitoring is recommended, especially as additional data becomes available.\n",
        "\n",
        "### Caution Regarding Minor Groups\n",
        "\n",
        "- Other country groups (e.g., Australia, Germany, Ireland, Netherlands) had very limited sample sizes (≤15 samples each).\n",
        "- As such, fairness metrics for these groups should be interpreted with caution and were not included in the primary fairness evaluation."
      ],
      "metadata": {
        "id": "D1L9aQYXHpOy"
      }
    },
    {
      "cell_type": "markdown",
      "source": [
        "### Disparate Impact and Equalized Odds Difference"
      ],
      "metadata": {
        "id": "XOd-L_rkmrDC"
      }
    },
    {
      "cell_type": "code",
      "source": [
        "# === Only output DI and EOD for each sensitive feature ===\n",
        "for logical_name, real_column in feature_mapping.items():\n",
        "    print(f\"\\n=== Fairness Summary for {logical_name} ===\")\n",
        "\n",
        "    # === Step 1: Subset data if feature is Country ===\n",
        "    if logical_name == \"Country\":\n",
        "        # Only keep samples where country is United States or United Kingdom\n",
        "        mask = X_test[real_column].isin([\"United States\", \"United Kingdom\"])\n",
        "        y_true_subset = y_test[mask]\n",
        "        y_pred_subset = y_pred_xgb[mask]\n",
        "        sensitive_feature_subset = X_test.loc[mask, real_column]\n",
        "    else:\n",
        "        # Otherwise use full data\n",
        "        y_true_subset = y_test\n",
        "        y_pred_subset = y_pred_xgb\n",
        "        sensitive_feature_subset = X_test[real_column]\n",
        "\n",
        "    # === Step 2: Calculate Fairness Metrics ===\n",
        "\n",
        "    # 1. Disparate Impact\n",
        "    selection_rates = MetricFrame(\n",
        "        metrics=selection_rate,\n",
        "        y_true=y_true_subset,\n",
        "        y_pred=y_pred_subset,\n",
        "        sensitive_features=sensitive_feature_subset\n",
        "    ).by_group\n",
        "    di = selection_rates.min() / selection_rates.max()\n",
        "\n",
        "    # 2. Equalized Odds Difference\n",
        "    eod = equalized_odds_difference(\n",
        "        y_true=y_true_subset,\n",
        "        y_pred=y_pred_subset,\n",
        "        sensitive_features=sensitive_feature_subset\n",
        "    )\n",
        "\n",
        "    # Print results\n",
        "    print(f\"Disparate Impact (DI): {di:.3f} (Ideal: 1)\")\n",
        "    print(f\"Equalized Odds Difference (EOD): {eod:.3f} (Ideal: 0)\")"
      ],
      "metadata": {
        "colab": {
          "base_uri": "https://localhost:8080/"
        },
        "id": "KwQHPeMVRI4L",
        "outputId": "ce7a188c-afea-4bc9-cdef-71c87ab1682f"
      },
      "execution_count": null,
      "outputs": [
        {
          "output_type": "stream",
          "name": "stdout",
          "text": [
            "\n",
            "=== Fairness Summary for Gender ===\n",
            "Disparate Impact (DI): 0.490 (Ideal: 1)\n",
            "Equalized Odds Difference (EOD): 0.221 (Ideal: 0)\n",
            "\n",
            "=== Fairness Summary for Age Group ===\n",
            "Disparate Impact (DI): 0.629 (Ideal: 1)\n",
            "Equalized Odds Difference (EOD): 0.385 (Ideal: 0)\n",
            "\n",
            "=== Fairness Summary for Country ===\n",
            "Disparate Impact (DI): 0.764 (Ideal: 1)\n",
            "Equalized Odds Difference (EOD): 0.061 (Ideal: 0)\n"
          ]
        }
      ]
    },
    {
      "cell_type": "markdown",
      "source": [
        "## **Fairness Analysis (Disparate Impact and Equalized Odds Difference)**\n",
        "\n",
        "Two key fairness metrics were assessed:\n",
        "- **Disparate Impact (DI)**: Measures the ratio of positive prediction rates between groups. A value close to 1 indicates fairness.\n",
        "- **Equalized Odds Difference (EOD)**: Measures the difference in True Positive Rate (TPR) and False Positive Rate (FPR) across groups. A value close to 0 indicates fairness.\n",
        "\n",
        "### Gender\n",
        "\n",
        "- **Disparate Impact (DI)**: 0.490 (Ideal: 1)\n",
        "- **Equalized Odds Difference (EOD)**: 0.221 (Ideal: 0)\n",
        "\n",
        "**Findings**:\n",
        "- Male individuals are significantly less likely to be predicted as needing treatment compared to female individuals.\n",
        "- There is a substantial difference in the True Positive and False Positive Rates between male and female groups.\n",
        "\n",
        "**Potential Risks**:\n",
        "- Male individuals may be under-detected by the model, leading to potential delays or omissions in mental health interventions.\n",
        "- Gender bias could result in unequal access to mental health support.\n",
        "\n",
        "### Age Group\n",
        "\n",
        "- **Disparate Impact (DI)**: 0.629 (Ideal: 1)\n",
        "- **Equalized Odds Difference (EOD)**: 0.385 (Ideal: 0)\n",
        "\n",
        "**Findings**:\n",
        "- Younger individuals, particularly the 18–25 age group, show lower positive prediction rates compared to older groups.\n",
        "- A notable gap exists in TPR and FPR across different age segments.\n",
        "\n",
        "**Potential Risks**:\n",
        "- Younger populations may be at a higher risk of being overlooked for treatment recommendations.\n",
        "- Age-related disparities could contribute to reduced access to mental health services for younger individuals.\n",
        "\n",
        "### Country (United States and United Kingdom only)\n",
        "\n",
        "- **Disparate Impact (DI)**: 0.764 (Ideal: 1)\n",
        "- **Equalized Odds Difference (EOD)**: 0.061 (Ideal: 0)\n",
        "\n",
        "**Findings**:\n",
        "- When focusing exclusively on the United States and United Kingdom groups (with sufficient sample sizes), fairness metrics are much closer to ideal values.\n",
        "- The DI value (0.764) is relatively close to the acceptable threshold (commonly [0.8, 1.25]), and the EOD value (0.061) indicates minimal disparity in classification performance.\n",
        "- This suggests that the model treats individuals from the United States and United Kingdom similarly with respect to positive treatment predictions.\n",
        "\n",
        "**Interpretation Caution**:\n",
        "- While fairness between the United States and United Kingdom is acceptable, fairness conclusions regarding other country groups were excluded due to insufficient sample sizes and instability.\n",
        "\n",
        "## Overall Conclusion\n",
        "\n",
        "The updated fairness evaluation reveals mixed results:\n",
        "\n",
        "- **Gender** and **Age Group** demonstrate meaningful fairness concerns, with Disparate Impact values well below 0.8 and notable Equalized Odds Differences.\n",
        "- **Country fairness**, when restricted to the United States and United Kingdom groups, appears acceptable, with metrics close to ideal thresholds.\n",
        "- Despite improvements after focusing on major country groups, fairness mitigation efforts remain necessary for gender and age attributes."
      ],
      "metadata": {
        "id": "PlZd0XO1Tp7W"
      }
    },
    {
      "cell_type": "markdown",
      "source": [
        "## **FairML for Bias Analysis**"
      ],
      "metadata": {
        "id": "4vJ7EVcVAsp7"
      }
    },
    {
      "cell_type": "markdown",
      "source": [
        "We initially planned to use FairML to audit feature bias, but Since we used Google Colab, FairML can not be pip installed.\n",
        "\n",
        "Instead, we switched to Fairlearn, which is fully supported and works well with modern systems. Using **Fairlearn's Exponentiated Gradient** method, we were still able to measure how much each feature contributes to potential bias — and the results are interpretable and robust.\n",
        "\n",
        "So this way, we ensured both technical stability and meaningful insights into our model's fairness."
      ],
      "metadata": {
        "id": "bIda5U-6Avwk"
      }
    },
    {
      "cell_type": "code",
      "source": [
        "# === 1. Import\n",
        "from sklearn.preprocessing import LabelEncoder\n",
        "from fairlearn.reductions import ExponentiatedGradient, DemographicParity\n",
        "from sklearn.linear_model import LogisticRegression\n",
        "\n",
        "import pandas as pd\n",
        "\n",
        "# === 2. Encode all non-numerical columns (object and category types) ===\n",
        "X_test_encoded = X_test.copy()\n",
        "\n",
        "for col in X_test_encoded.columns:\n",
        "    if X_test_encoded[col].dtype == \"object\" or str(X_test_encoded[col].dtype).startswith(\"category\"):\n",
        "        le = LabelEncoder()\n",
        "        X_test_encoded[col] = le.fit_transform(X_test_encoded[col].astype(str))\n",
        "\n",
        "# === 3. Encode sensitive feature separately\n",
        "sensitive_feature_name = \"gender_clean\"  # or \"age_group\" / \"self_employed\" / \"family_history\"\n",
        "sensitive_feature_encoded = LabelEncoder().fit_transform(X_test[sensitive_feature_name].astype(str))"
      ],
      "metadata": {
        "id": "GpmPfbfs74KM"
      },
      "execution_count": null,
      "outputs": []
    },
    {
      "cell_type": "code",
      "source": [
        "# === 4. Fit fairness-aware model\n",
        "constraint = DemographicParity()\n",
        "base_model = LogisticRegression(solver=\"liblinear\")\n",
        "exp_grad = ExponentiatedGradient(base_model, constraints=constraint)\n",
        "\n",
        "exp_grad.fit(X_test_encoded, y_test, sensitive_features=sensitive_feature_encoded)\n",
        "\n",
        "# === 5. Get feature bias contribution\n",
        "# Collect all base classifiers and their weights\n",
        "coefs = []\n",
        "weights = []\n",
        "\n",
        "for classifier, weight in zip(exp_grad.predictors_, exp_grad.weights_):\n",
        "    coefs.append(classifier.coef_[0])  # assume binary classification\n",
        "    weights.append(weight)\n",
        "\n",
        "# Weighted average of coefficients\n",
        "import numpy as np\n",
        "\n",
        "weighted_coef = np.average(coefs, axis=0, weights=weights)\n",
        "\n",
        "# Turn into Series for readability\n",
        "feature_bias = pd.Series(weighted_coef, index=X_test_encoded.columns)\n",
        "feature_bias = feature_bias.abs().sort_values(ascending=False)\n",
        "\n",
        "print(\"\\n=== Global Feature Importance for Bias (Demographic Parity) ===\")\n",
        "print(feature_bias)"
      ],
      "metadata": {
        "colab": {
          "base_uri": "https://localhost:8080/"
        },
        "id": "KWmZagEtAET1",
        "outputId": "de6c93f1-0cf4-4326-d0f5-13dcd1d0d294"
      },
      "execution_count": null,
      "outputs": [
        {
          "output_type": "stream",
          "name": "stdout",
          "text": [
            "\n",
            "=== Global Feature Importance for Bias (Demographic Parity) ===\n",
            "age_group                    1.107561\n",
            "work_interfere               0.806039\n",
            "family_history               0.772787\n",
            "obs_consequence              0.653191\n",
            "remote_work                  0.554751\n",
            "wellness_program             0.372431\n",
            "phys_health_interview        0.361832\n",
            "mental_health_consequence    0.326280\n",
            "self_employed                0.288689\n",
            "Gender                       0.285739\n",
            "gender_clean                 0.285739\n",
            "coworkers                    0.253562\n",
            "mental_health_interview      0.248415\n",
            "benefits                     0.237909\n",
            "care_options                 0.213192\n",
            "phys_health_consequence      0.129691\n",
            "supervisor                   0.124286\n",
            "Age                          0.113235\n",
            "seek_help                    0.101233\n",
            "tech_company                 0.066230\n",
            "leave                        0.063856\n",
            "Country_grouped              0.025137\n",
            "mental_vs_physical           0.004811\n",
            "dtype: float64\n"
          ]
        }
      ]
    },
    {
      "cell_type": "code",
      "source": [
        "# === Import matplotlib for plotting\n",
        "import matplotlib.pyplot as plt\n",
        "import numpy as np\n",
        "\n",
        "# === Sort feature_bias ascending\n",
        "feature_bias_sorted = feature_bias.sort_values(ascending=True)\n",
        "\n",
        "# === Prepare color gradient (light blue to deep blue)\n",
        "cmap = plt.get_cmap('Blues')\n",
        "colors = cmap(np.linspace(0.4, 0.9, len(feature_bias_sorted)))  # 0.4 to 0.9 controls brightness\n",
        "\n",
        "# === Plot\n",
        "plt.figure(figsize=(8, 10))\n",
        "bars = plt.barh(feature_bias_sorted.index, feature_bias_sorted.values, color=colors)\n",
        "\n",
        "# Add labels\n",
        "plt.xlabel(\"Bias Contribution (absolute coefficient)\")\n",
        "plt.title(\"Global Feature Importance for Bias (Demographic Parity)\")\n",
        "\n",
        "# Add grid\n",
        "plt.grid(axis=\"x\", linestyle=\"--\", alpha=0.7)\n",
        "\n",
        "# Make layout tight\n",
        "plt.tight_layout()\n",
        "\n",
        "# Show plot\n",
        "plt.show()"
      ],
      "metadata": {
        "colab": {
          "base_uri": "https://localhost:8080/",
          "height": 1000
        },
        "id": "qY1e-WTkB5wS",
        "outputId": "bfdef661-8600-4411-d23a-69d3b6cfbfe4"
      },
      "execution_count": null,
      "outputs": [
        {
          "output_type": "display_data",
          "data": {
            "text/plain": [
              "<Figure size 800x1000 with 1 Axes>"
            ],
            "image/png": "[encoded data removed]"
          },
          "metadata": {}
        }
      ]
    },
    {
      "cell_type": "markdown",
      "source": [
        "# Interpretation of Global Feature Importance for Bias (Demographic Parity)\n",
        "\n",
        "The plot shows the **relative contributions of different features** to potential demographic parity differences — that is, how much each feature is associated with unequal positive prediction rates across groups.\n",
        "\n",
        "However, it is important to note:\n",
        "- **Higher contribution does not automatically imply unfair bias.**\n",
        "- Some features legitimately influence the target outcome (treatment) and should naturally create prediction differences.\n",
        "\n",
        "In other words:\n",
        "> **High contribution may reflect either legitimate predictive relationships or problematic biases, depending on the feature's role and nature.**\n",
        "\n",
        "\n",
        "Examples:\n",
        "\n",
        "- **Family History** (high contribution):  \n",
        "  - It is medically validated that individuals with a family history of mental health conditions are more likely to require treatment.\n",
        "  - Thus, its strong impact on predictions is **expected and acceptable**, not unfair bias.\n",
        "\n",
        "- **Age Group and Gender** (high contribution):  \n",
        "  - These are **sensitive demographic attributes**.\n",
        "  - While real-world differences may exist, models should not over-rely on them without proper justification.\n",
        "  - **High contributions from Age Group and Gender suggest the model may be introducing or amplifying demographic biases**, which requires further fairness evaluation.\n",
        "\n",
        "\n",
        "#### Special Note: Age Group vs Age\n",
        "\n",
        "- **Age Group**:  \n",
        "  - Represents **binned categories** of ages (e.g., 18–25, 26–35, etc.).\n",
        "  - This grouping helps create **meaningful, stable categories** for fairness analysis.\n",
        "  - When Age Group has high bias contribution, it suggests disparities across broad age brackets.\n",
        "\n",
        "- **Age (continuous)**:  \n",
        "  - If using raw Age (e.g., 22, 45, 67 as separate values),  \n",
        "  - Every distinct number is treated as a **separate \"category\"** during bias calculation.\n",
        "  - This leads to **very small sample sizes per \"group\"**,  \n",
        "  - Making the calculated bias much less stable and often artificially diluted.\n",
        "\n",
        "**Therefore:**  \n",
        "> **The low contribution of \"Age\" in the plot does not mean there is no age-related bias.**  \n",
        "> It simply reflects that the continuous Age variable, without grouping, is less effective for capturing structured demographic disparities in fairness evaluation.\n",
        "\n",
        "This is why \"Age Group\" is more meaningful for fairness assessments than raw \"Age\".\n",
        "\n",
        "#### Further Improvements\n",
        "\n",
        "- **Reweight Training Samples**  \n",
        "  Adjust sample weights to emphasize underrepresented groups (e.g., male individuals, younger age groups) during model training, reducing group disparities in positive predictions.\n",
        "\n",
        "- **Apply Fairness-Constrained Learning**  \n",
        "  Explore training with fairness constraints, such as demographic parity or equalized odds, to directly balance prediction outcomes across sensitive attributes without sacrificing too much accuracy.\n",
        "\n",
        "- **Continuous Fairness Monitoring**  \n",
        "  Implement fairness metric tracking in post-deployment monitoring pipelines to continuously observe disparate impact and equalized odds across sensitive groups, allowing timely retraining or recalibration when needed.\n",
        "\n",
        "#### Final Professional Summary\n",
        "\n",
        "> The feature importance plot reveals which features contribute to demographic differences in treatment predictions. Not all high contributions are problematic: medically justified features like family history should impact predictions. However, high contributions from sensitive attributes like **Age Group and Gender signal potential bias and require careful fairness auditing. Grouped age categories (Age Group)** offer a clearer, more stable view of bias than continuous Age values."
      ],
      "metadata": {
        "id": "Y5UdfqbpE_fP"
      }
    },
    {
      "cell_type": "markdown",
      "source": [
        "## DAG Causal Reasoning"
      ],
      "metadata": {
        "id": "bVUA0HRc1wxn"
      }
    },
    {
      "cell_type": "markdown",
      "source": [
        "## Objective\n",
        "\n",
        "In fairness analysis, simply observing correlations between sensitive attributes and prediction outcomes can be misleading. Without a clear understanding of the causal structure, it is impossible to distinguish between legitimate influences and unfair biases. Drawing a Directed Acyclic Graph (DAG) helps formally represent the assumed relationships among variables, identify potential mediators, and clarify which paths should or should not exist in an unbiased model.\n",
        "\n",
        "By explicitly modeling these causal pathways, we can more accurately assess whether sensitive features like Gender or Age Group unfairly influence treatment predictions, beyond legitimate health-related factors."
      ],
      "metadata": {
        "id": "F_2gs2AQ70UE"
      }
    },
    {
      "cell_type": "markdown",
      "source": [
        "## Methodology\n",
        "\n",
        "#### Why Use Proxy Variables?\n",
        "\n",
        "In fairness analysis, particularly when applying causal reasoning, it is essential to distinguish between **Legitimate causal pathways**, where differences in treatment prediction are due to genuine differences in health status or need, and **Direct unfair influence**, where sensitive attributes such as Gender or Age Group affect predictions without justification.\n",
        "\n",
        "However, in our datasets, **direct measurements of key mediating factors (e.g., mental health severity scores, stress levels)** are not availabl.  Without these mediators, a naive fairness test might incorrectly attribute all outcome differences to bias.\n",
        "\n",
        "Therefore, **we introduce proxy variables** — features that indirectly capture the missing mediators — to create a more accurate causal structure and avoid overestimating bias.\n",
        "\n",
        "### Why Choose Work Interfere and Family History?\n",
        "\n",
        "- **Work Interfere** (\"How often does your mental health interfere with your work?\"):\n",
        "  - Reflects **current functional impact of mental health**.\n",
        "  - Serves as a **behavioral proxy** for mental health severity.\n",
        "  - Justifies potential treatment needs independent of demographic attributes.\n",
        "\n",
        "- **Family History** (\"Do you have a family history of mental illness?\"):\n",
        "  - Represents **genetic predisposition to mental health conditions**.\n",
        "  - Serves as a **biological proxy** for increased mental health risk.\n",
        "  - It is widely recognized in clinical practice as a legitimate predictor of treatment necessity.\n",
        "\n",
        "Together, **Work Interfere** and **Family History** offer a balanced proxy structure:\n",
        "- One capturing **current health-related behavior**.\n",
        "- One capturing **baseline hereditary risk**.\n",
        "\n",
        "They enable us to model how Gender and Age Group should **indirectly influence Treatment via legitimate pathways**,  thus allowing a cleaner identification of any remaining **direct unfair biases**."
      ],
      "metadata": {
        "id": "OPT2GLdb65bu"
      }
    },
    {
      "cell_type": "code",
      "source": [
        "!pip install DoWhy"
      ],
      "metadata": {
        "colab": {
          "base_uri": "https://localhost:8080/",
          "height": 1000
        },
        "collapsed": true,
        "id": "GszwgtkD2YGM",
        "outputId": "780e9cc2-bdcc-43af-8228-6e755e9fda8b"
      },
      "execution_count": null,
      "outputs": [
        {
          "output_type": "stream",
          "name": "stdout",
          "text": [
            "Collecting DoWhy\n",
            "  Downloading dowhy-0.12-py3-none-any.whl.metadata (18 kB)\n",
            "Collecting causal-learn>=0.1.3.0 (from DoWhy)\n",
            "  Downloading causal_learn-0.1.4.1-py3-none-any.whl.metadata (4.6 kB)\n",
            "Requirement already satisfied: cvxpy>=1.2.2 in /usr/local/lib/python3.11/dist-packages (from DoWhy) (1.6.5)\n",
            "Collecting cython<3.0 (from DoWhy)\n",
            "  Downloading Cython-0.29.37-cp311-cp311-manylinux_2_17_x86_64.manylinux2014_x86_64.manylinux_2_24_x86_64.whl.metadata (3.1 kB)\n",
            "Requirement already satisfied: joblib>=1.1.0 in /usr/local/lib/python3.11/dist-packages (from DoWhy) (1.4.2)\n",
            "Requirement already satisfied: networkx>=2.8.5 in /usr/local/lib/python3.11/dist-packages (from DoWhy) (3.4.2)\n",
            "Requirement already satisfied: numba>=0.59 in /usr/local/lib/python3.11/dist-packages (from DoWhy) (0.60.0)\n",
            "Requirement already satisfied: numpy>1.0 in /usr/local/lib/python3.11/dist-packages (from DoWhy) (2.0.2)\n",
            "Requirement already satisfied: pandas>1.0 in /usr/local/lib/python3.11/dist-packages (from DoWhy) (2.2.2)\n",
            "Requirement already satisfied: scikit-learn>1.0 in /usr/local/lib/python3.11/dist-packages (from DoWhy) (1.6.1)\n",
            "Requirement already satisfied: scipy>=1.10 in /usr/local/lib/python3.11/dist-packages (from DoWhy) (1.14.1)\n",
            "Requirement already satisfied: statsmodels>=0.13.5 in /usr/local/lib/python3.11/dist-packages (from DoWhy) (0.14.4)\n",
            "Requirement already satisfied: sympy>=1.10.1 in /usr/local/lib/python3.11/dist-packages (from DoWhy) (1.13.1)\n",
            "Requirement already satisfied: tqdm>=4.64.0 in /usr/local/lib/python3.11/dist-packages (from DoWhy) (4.67.1)\n",
            "Requirement already satisfied: graphviz in /usr/local/lib/python3.11/dist-packages (from causal-learn>=0.1.3.0->DoWhy) (0.20.3)\n",
            "Requirement already satisfied: matplotlib in /usr/local/lib/python3.11/dist-packages (from causal-learn>=0.1.3.0->DoWhy) (3.10.0)\n",
            "Requirement already satisfied: pydot in /usr/local/lib/python3.11/dist-packages (from causal-learn>=0.1.3.0->DoWhy) (3.0.4)\n",
            "Collecting momentchi2 (from causal-learn>=0.1.3.0->DoWhy)\n",
            "  Downloading momentchi2-0.1.8-py3-none-any.whl.metadata (6.1 kB)\n",
            "Requirement already satisfied: osqp>=0.6.2 in /usr/local/lib/python3.11/dist-packages (from cvxpy>=1.2.2->DoWhy) (1.0.3)\n",
            "Requirement already satisfied: clarabel>=0.5.0 in /usr/local/lib/python3.11/dist-packages (from cvxpy>=1.2.2->DoWhy) (0.10.0)\n",
            "Requirement already satisfied: scs>=3.2.4.post1 in /usr/local/lib/python3.11/dist-packages (from cvxpy>=1.2.2->DoWhy) (3.2.7.post2)\n",
            "Requirement already satisfied: llvmlite<0.44,>=0.43.0dev0 in /usr/local/lib/python3.11/dist-packages (from numba>=0.59->DoWhy) (0.43.0)\n",
            "Requirement already satisfied: python-dateutil>=2.8.2 in /usr/local/lib/python3.11/dist-packages (from pandas>1.0->DoWhy) (2.8.2)\n",
            "Requirement already satisfied: pytz>=2020.1 in /usr/local/lib/python3.11/dist-packages (from pandas>1.0->DoWhy) (2025.2)\n",
            "Requirement already satisfied: tzdata>=2022.7 in /usr/local/lib/python3.11/dist-packages (from pandas>1.0->DoWhy) (2025.2)\n",
            "Requirement already satisfied: threadpoolctl>=3.1.0 in /usr/local/lib/python3.11/dist-packages (from scikit-learn>1.0->DoWhy) (3.6.0)\n",
            "Requirement already satisfied: patsy>=0.5.6 in /usr/local/lib/python3.11/dist-packages (from statsmodels>=0.13.5->DoWhy) (1.0.1)\n",
            "Requirement already satisfied: packaging>=21.3 in /usr/local/lib/python3.11/dist-packages (from statsmodels>=0.13.5->DoWhy) (24.2)\n",
            "Requirement already satisfied: mpmath<1.4,>=1.1.0 in /usr/local/lib/python3.11/dist-packages (from sympy>=1.10.1->DoWhy) (1.3.0)\n",
            "Requirement already satisfied: jinja2 in /usr/local/lib/python3.11/dist-packages (from osqp>=0.6.2->cvxpy>=1.2.2->DoWhy) (3.1.6)\n",
            "Requirement already satisfied: setuptools in /usr/local/lib/python3.11/dist-packages (from osqp>=0.6.2->cvxpy>=1.2.2->DoWhy) (75.2.0)\n",
            "Requirement already satisfied: six>=1.5 in /usr/local/lib/python3.11/dist-packages (from python-dateutil>=2.8.2->pandas>1.0->DoWhy) (1.17.0)\n",
            "Requirement already satisfied: contourpy>=1.0.1 in /usr/local/lib/python3.11/dist-packages (from matplotlib->causal-learn>=0.1.3.0->DoWhy) (1.3.2)\n",
            "Requirement already satisfied: cycler>=0.10 in /usr/local/lib/python3.11/dist-packages (from matplotlib->causal-learn>=0.1.3.0->DoWhy) (0.12.1)\n",
            "Requirement already satisfied: fonttools>=4.22.0 in /usr/local/lib/python3.11/dist-packages (from matplotlib->causal-learn>=0.1.3.0->DoWhy) (4.57.0)\n",
            "Requirement already satisfied: kiwisolver>=1.3.1 in /usr/local/lib/python3.11/dist-packages (from matplotlib->causal-learn>=0.1.3.0->DoWhy) (1.4.8)\n",
            "Requirement already satisfied: pillow>=8 in /usr/local/lib/python3.11/dist-packages (from matplotlib->causal-learn>=0.1.3.0->DoWhy) (11.1.0)\n",
            "Requirement already satisfied: pyparsing>=2.3.1 in /usr/local/lib/python3.11/dist-packages (from matplotlib->causal-learn>=0.1.3.0->DoWhy) (3.2.3)\n",
            "Requirement already satisfied: MarkupSafe>=2.0 in /usr/local/lib/python3.11/dist-packages (from jinja2->osqp>=0.6.2->cvxpy>=1.2.2->DoWhy) (3.0.2)\n",
            "Downloading dowhy-0.12-py3-none-any.whl (398 kB)\n",
            "\u001b[2K   \u001b[90m━━━━━━━━━━━━━━━━━━━━━━━━━━━━━━━━━━━━━━━━\u001b[0m \u001b[32m398.4/398.4 kB\u001b[0m \u001b[31m7.5 MB/s\u001b[0m eta \u001b[36m0:00:00\u001b[0m\n",
            "\u001b[?25hDownloading causal_learn-0.1.4.1-py3-none-any.whl (192 kB)\n",
            "\u001b[2K   \u001b[90m━━━━━━━━━━━━━━━━━━━━━━━━━━━━━━━━━━━━━━━━\u001b[0m \u001b[32m192.6/192.6 kB\u001b[0m \u001b[31m12.0 MB/s\u001b[0m eta \u001b[36m0:00:00\u001b[0m\n",
            "\u001b[?25hDownloading Cython-0.29.37-cp311-cp311-manylinux_2_17_x86_64.manylinux2014_x86_64.manylinux_2_24_x86_64.whl (1.9 MB)\n",
            "\u001b[2K   \u001b[90m━━━━━━━━━━━━━━━━━━━━━━━━━━━━━━━━━━━━━━━━\u001b[0m \u001b[32m1.9/1.9 MB\u001b[0m \u001b[31m35.3 MB/s\u001b[0m eta \u001b[36m0:00:00\u001b[0m\n",
            "\u001b[?25hDownloading momentchi2-0.1.8-py3-none-any.whl (11 kB)\n",
            "Installing collected packages: cython, momentchi2, causal-learn, DoWhy\n",
            "  Attempting uninstall: cython\n",
            "    Found existing installation: Cython 3.0.12\n",
            "    Uninstalling Cython-3.0.12:\n",
            "      Successfully uninstalled Cython-3.0.12\n",
            "Successfully installed DoWhy-0.12 causal-learn-0.1.4.1 cython-0.29.37 momentchi2-0.1.8\n"
          ]
        },
        {
          "output_type": "display_data",
          "data": {
            "application/vnd.colab-display-data+json": {
              "pip_warning": {
                "packages": [
                  "Cython",
                  "cython"
                ]
              },
              "id": "32209a700a9c430ea5ae3e5c22603233"
            }
          },
          "metadata": {}
        }
      ]
    },
    {
      "cell_type": "code",
      "source": [
        "import dowhy\n",
        "\n",
        "# Define causal graph as a string\n",
        "causal_graph = \"\"\"\n",
        "digraph {\n",
        "    Gender -> Work_Interfere;\n",
        "    Age_Group -> Work_Interfere;\n",
        "    Work_Interfere -> Treatment;\n",
        "    Family_History -> Treatment;\n",
        "}\n",
        "\"\"\"\n",
        "\n",
        "# Print it out\n",
        "print(causal_graph)"
      ],
      "metadata": {
        "id": "3SPZNid4DJPi",
        "colab": {
          "base_uri": "https://localhost:8080/"
        },
        "outputId": "4064a098-711c-4d79-f4cf-4fd392441f6e"
      },
      "execution_count": null,
      "outputs": [
        {
          "output_type": "stream",
          "name": "stdout",
          "text": [
            "\n",
            "digraph {\n",
            "    Gender -> Work_Interfere;\n",
            "    Age_Group -> Work_Interfere;\n",
            "    Work_Interfere -> Treatment;\n",
            "    Family_History -> Treatment;\n",
            "}\n",
            "\n"
          ]
        }
      ]
    },
    {
      "cell_type": "code",
      "source": [
        "import pandas as pd\n",
        "\n",
        "# Merge X and y into one dataframe\n",
        "data = X_test.copy()\n",
        "data[\"Treatment\"] = y_test"
      ],
      "metadata": {
        "id": "hWwnwcxt2M7J"
      },
      "execution_count": null,
      "outputs": []
    },
    {
      "cell_type": "code",
      "source": [
        "from dowhy import CausalModel\n",
        "\n",
        "# Build the model\n",
        "model = CausalModel(\n",
        "    data=data,\n",
        "    treatment=[\"Gender\", \"Age_Group\"],\n",
        "    outcome=\"Treatment\",\n",
        "    graph=causal_graph\n",
        ")\n",
        "\n",
        "# Visualize the DAG\n",
        "model.view_model()"
      ],
      "metadata": {
        "colab": {
          "base_uri": "https://localhost:8080/",
          "height": 628
        },
        "id": "bUKc5NDz3Jab",
        "outputId": "b80a9ce7-dd25-41d0-e385-6379feaa3815"
      },
      "execution_count": null,
      "outputs": [
        {
          "output_type": "stream",
          "name": "stderr",
          "text": [
            "ERROR:dowhy.causal_graph:Error: Pygraphviz cannot be loaded. No module named 'pygraphviz'\n",
            "Trying pydot ...\n",
            "/usr/local/lib/python3.11/dist-packages/dowhy/causal_model.py:583: UserWarning: 3 variables are assumed unobserved because they are not in the dataset. Configure the logging level to `logging.WARNING` or higher for additional details.\n",
            "  warnings.warn(\n",
            "WARNING:dowhy.causal_model:The graph defines 5 variables. 2 were found in the dataset and will be analyzed as observed variables. 3 were not found in the dataset and will be analyzed as unobserved variables. The observed variables are: '['Gender', 'Treatment']'. The unobserved variables are: '['Age_Group', 'Family_History', 'Work_Interfere']'. If this matches your expectations for observations, please continue. If you expected any of the unobserved variables to be in the dataframe, please check for typos.\n",
            "WARNING:dowhy.causal_model:There are an additional 22 variables in the dataset that are not in the graph. Variable names are: '['Age', 'Country_grouped', 'age_group', 'benefits', 'care_options', 'coworkers', 'family_history', 'gender_clean', 'leave', 'mental_health_consequence', 'mental_health_interview', 'mental_vs_physical', 'obs_consequence', 'phys_health_consequence', 'phys_health_interview', 'remote_work', 'seek_help', 'self_employed', 'supervisor', 'tech_company', 'wellness_program', 'work_interfere']'\n"
          ]
        },
        {
          "output_type": "display_data",
          "data": {
            "text/plain": [
              "<Figure size 800x600 with 1 Axes>"
            ],
            "image/png": "[encoded data removed]"
          },
          "metadata": {}
        }
      ]
    },
    {
      "cell_type": "markdown",
      "source": [
        "## Why DAG?\n",
        "\n",
        "To formally assess fairness in treatment prediction, we constructed a causal graph (DAG) to represent the assumed relationships among key variables. This DAG explicitly models both legitimate predictors of treatment needs and sensitive attributes whose influence should ideally be mediated through behavioral factors.\n",
        "\n",
        "In the graph, **Family_History** is posited to have a **direct causal effect** on Treatment. Individuals with a family history of mental health issues are medically recognized as having a higher risk of requiring mental health treatment. Therefore, it is legitimate and expected that Family_History directly influences Treatment predictions without mediation.\n",
        "\n",
        "In contrast, **Gender** and **Age_Group** are sensitive demographic attributes. In an unbiased model, these features should **not directly affect treatment outcomes**. Instead, their influence is assumed to operate **indirectly through Work_Interfere** — a behavioral proxy capturing the real-world impact of mental health on daily functioning. For example, gender-based societal expectations or age-related work stress could affect how much mental health issues interfere with work, which in turn would affect the perceived need for treatment.\n",
        "\n",
        "The variable **Work_Interfere** acts as a crucial mediator within the causal structure. It captures meaningful differences in mental health impact without encoding protected demographic characteristics directly into treatment decisions. A strong association between Work_Interfere and Treatment is both expected and legitimate.\n",
        "\n",
        "This DAG structure is critical because it **separates legitimate causal pathways from potential sources of unfair bias**. If, after controlling for Work_Interfere, Gender or Age_Group still exerts a significant direct effect on Treatment, this would indicate the presence of **unfair direct bias** — a violation of causal fairness assumptions.\n",
        "\n",
        "By formalizing these relationships, the DAG provides a transparent framework to guide subsequent conditional independence tests and causal fairness evaluations."
      ],
      "metadata": {
        "id": "KrGlTjDA3yw9"
      }
    },
    {
      "cell_type": "markdown",
      "source": [
        "### Conditional Independence Test"
      ],
      "metadata": {
        "id": "ChkLliDf-9Fx"
      }
    },
    {
      "cell_type": "code",
      "source": [
        "import statsmodels.api as sm\n",
        "\n",
        "# Take only relevant variables\n",
        "selected_features = [\"Gender\", \"age_group\", \"work_interfere\", \"family_history\"]\n",
        "X = data[selected_features]\n",
        "# Dummy encode categorical variables\n",
        "X_encoded = pd.get_dummies(X, drop_first=True)\n",
        "\n",
        "# Convert all boolean columns to integers (0/1)\n",
        "X_encoded = X_encoded.astype(int)\n",
        "\n",
        "# Add constant\n",
        "X_encoded = sm.add_constant(X_encoded)\n",
        "\n",
        "# Prepare y\n",
        "y = data[\"Treatment\"].astype(int)\n",
        "\n",
        "# Logistic regression\n",
        "model_logit = sm.Logit(y, X_encoded)\n",
        "result = model_logit.fit()\n",
        "\n",
        "# Show results\n",
        "print(result.summary())"
      ],
      "metadata": {
        "colab": {
          "base_uri": "https://localhost:8080/"
        },
        "id": "32hbLY4L3LWU",
        "outputId": "9a28c91f-972e-4f64-d38b-4e5da1b4af0a"
      },
      "execution_count": null,
      "outputs": [
        {
          "output_type": "stream",
          "name": "stdout",
          "text": [
            "Warning: Maximum number of iterations has been exceeded.\n",
            "         Current function value: 0.360890\n",
            "         Iterations: 35\n",
            "                           Logit Regression Results                           \n",
            "==============================================================================\n",
            "Dep. Variable:              Treatment   No. Observations:                  251\n",
            "Model:                          Logit   Df Residuals:                      240\n",
            "Method:                           MLE   Df Model:                           10\n",
            "Date:                Mon, 28 Apr 2025   Pseudo R-squ.:                  0.4793\n",
            "Time:                        05:33:42   Log-Likelihood:                -90.584\n",
            "converged:                      False   LL-Null:                       -173.96\n",
            "Covariance Type:            nonrobust   LLR p-value:                 1.301e-30\n",
            "=================================================================================================\n",
            "                                    coef    std err          z      P>|z|      [0.025      0.975]\n",
            "-------------------------------------------------------------------------------------------------\n",
            "const                            -1.4310      0.902     -1.586      0.113      -3.199       0.337\n",
            "Gender_Male                      -1.7670      0.607     -2.913      0.004      -2.956      -0.578\n",
            "Gender_Other                     15.9799   1.72e+04      0.001      0.999   -3.36e+04    3.37e+04\n",
            "age_group_26-35                   0.4499      0.628      0.716      0.474      -0.781       1.681\n",
            "age_group_36-45                   0.7552      0.684      1.104      0.269      -0.585       2.095\n",
            "age_group_45+                     2.4646      1.026      2.402      0.016       0.454       4.476\n",
            "work_interfere_Not applicable    -1.9507      1.131     -1.725      0.084      -4.167       0.265\n",
            "work_interfere_Often              3.4542      0.761      4.540      0.000       1.963       4.945\n",
            "work_interfere_Rarely             3.0519      0.633      4.822      0.000       1.812       4.292\n",
            "work_interfere_Sometimes          2.8737      0.547      5.256      0.000       1.802       3.945\n",
            "family_history_Yes                1.3240      0.395      3.352      0.001       0.550       2.098\n",
            "=================================================================================================\n"
          ]
        },
        {
          "output_type": "stream",
          "name": "stderr",
          "text": [
            "/usr/local/lib/python3.11/dist-packages/statsmodels/base/model.py:607: ConvergenceWarning: Maximum Likelihood optimization failed to converge. Check mle_retvals\n",
            "  warnings.warn(\"Maximum Likelihood optimization failed to \"\n"
          ]
        }
      ]
    },
    {
      "cell_type": "markdown",
      "source": [
        "## Causal Reasoning Analysis\n",
        "\n",
        "To better understand potential sources of bias in the treatment prediction model, we performed a causal reasoning analysis based on the defined **proxy-based DAG**:\n",
        "\n",
        "- **Gender and Age Group** are assumed to influence Treatment outcomes **indirectly** through **Work Interfere**.\n",
        "- **Family History** is assumed to **directly** affect Treatment due to hereditary mental health risks.\n",
        "\n",
        "Our goal was to verify whether sensitive attributes **(Gender, Age Group)** still have a **direct influence** on Treatment after controlling for **mediating factors (Work Interfere)**.\n",
        "\n",
        "### Methodology\n",
        "\n",
        "- We constructed a logistic regression model with Treatment as the outcome variable.\n",
        "- Independent variables included:\n",
        "  - Sensitive attributes: Gender, Age Group\n",
        "  - Proxy mediator: Work Interfere\n",
        "  - Legitimate predictor: Family History\n",
        "- Dummy encoding was applied to categorical variables, and all inputs were cast to numeric formats.\n",
        "- We inspected the significance of the Gender and Age Group coefficients after adjusting for Work Interfere.\n",
        "\n",
        "### Results Summary\n",
        "\n",
        "| Variable | Coefficient | p-value | Interpretation |\n",
        "|:---|:---|:---|:---|\n",
        "| **Gender_Male** | -1.767 | 0.004 | **Significant**: Gender remains a direct driver of Treatment prediction, indicating bias. |\n",
        "| Gender_Other | 15.979 | 0.999 | **Not significant**: Likely due to extremely small sample size, ignored in interpretation. |\n",
        "| age_group_26-35 | 0.449 | 0.474 | **Not significant**: No detectable direct bias after controlling for Work Interfere. |\n",
        "| age_group_36-45 | 0.755 | 0.269 | **Not significant**: No detectable direct bias. |\n",
        "| **age_group_45+** | 2.464 | 0.016 | **Significant**: Age 45+ group shows direct bias in treatment prediction. |\n",
        "| Work_Interfere (all categories) | Significant | -- | Valid mediators; confirms proper causal structure. |\n",
        "| Family_History_Yes | Significant | -- | Legitimate predictor; expected to impact treatment. |\n",
        "\n",
        "### Interpretation\n",
        "\n",
        "- **Gender Bias**:  \n",
        "  Even after accounting for differences in work interference, **being male** significantly reduces the probability of being predicted for treatment.  \n",
        "  ➔ Suggests the model unfairly underestimates treatment needs for male individuals.\n",
        "\n",
        "- **Age Group Bias**:  \n",
        "  The **45+ age group** shows a significantly higher likelihood of being predicted for treatment, independent of work interference.  \n",
        "  ➔ Indicates that age-related bias exists, particularly disadvantaging younger groups.\n",
        "\n",
        "- **Proxy and Legitimate Variables**:  \n",
        "  Work Interfere and Family History behave as expected, validating the causal DAG design and confirming that these variables meaningfully capture parts of the treatment decision process.\n",
        "\n",
        "### Conclusion\n",
        "\n",
        "The causal reasoning analysis confirms that:\n",
        "- **Gender (Male)** and **Age Group (45+)** have direct, unfair impacts on treatment predictions, independent of mediating factors.\n",
        "- These findings reinforce the earlier statistical fairness analysis and justify the need for fairness mitigation strategies targeting Gender and Age disparities."
      ],
      "metadata": {
        "id": "5Lckh4Rj5af6"
      }
    },
    {
      "cell_type": "code",
      "source": [],
      "metadata": {
        "id": "Wo7HZosa6HD1"
      },
      "execution_count": null,
      "outputs": []
    }
  ]
}